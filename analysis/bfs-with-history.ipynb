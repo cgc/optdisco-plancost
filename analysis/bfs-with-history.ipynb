{
 "cells": [
  {
   "cell_type": "code",
   "execution_count": 15,
   "metadata": {},
   "outputs": [
    {
     "name": "stdout",
     "output_type": "stream",
     "text": [
      "The autoreload extension is already loaded. To reload it, use:\n",
      "  %reload_ext autoreload\n"
     ]
    }
   ],
   "source": [
    "import torch, matplotlib.pyplot as plt, numpy as np\n",
    "from ipypb import track as tqdm\n",
    "import diffplan, astar, envs, prior_envs, search\n",
    "%load_ext autoreload\n",
    "%autoreload 2\n",
    "%matplotlib inline"
   ]
  },
  {
   "cell_type": "code",
   "execution_count": 22,
   "metadata": {},
   "outputs": [
    {
     "name": "stdout",
     "output_type": "stream",
     "text": [
      "{'visited': {0, 1, 2, 3, 4}, 'frontier': set(), 'path': (None, [0, 1, 4, 5])}\n",
      "{'visited': {0, 1, 2, 3, 4}, 'frontier': set(), 'path': (None, [0, 3, 4, 5])}\n"
     ]
    }
   ],
   "source": [
    "import random\n",
    "random.seed(0)\n",
    "print(search.bfs(prior_envs.f2c, 0, 5))\n",
    "random.seed(1)\n",
    "print(search.bfs(prior_envs.f2c, 0, 5))"
   ]
  },
  {
   "cell_type": "code",
   "execution_count": 127,
   "metadata": {},
   "outputs": [
    {
     "name": "stdout",
     "output_type": "stream",
     "text": [
      "0 4 8\n",
      "normal visited 6.50 +- 0.022 steps 4.00 +- 0.000 cost 10.5\n",
      "subgoals visited 9.83 +- 0.047 steps 4.00 +- 0.000 cost 13.826\n",
      "sg_transfer visited 6.48 +- 0.022 steps 4.00 +- 0.000 cost 10.478\n",
      "\n",
      "0 5 8\n",
      "normal visited 6.51 +- 0.022 steps 4.00 +- 0.000 cost 10.51\n",
      "subgoals visited 7.01 +- 0.037 steps 4.00 +- 0.000 cost 11.006\n",
      "sg_transfer visited 6.51 +- 0.022 steps 4.00 +- 0.000 cost 10.512\n",
      "\n",
      "8 4 0\n",
      "normal visited 8.50 +- 0.022 steps 4.00 +- 0.000 cost 12.502\n",
      "subgoals visited 9.92 +- 0.050 steps 4.00 +- 0.000 cost 13.924\n",
      "sg_transfer visited 8.31 +- 0.029 steps 4.00 +- 0.000 cost 12.308\n",
      "\n",
      "8 5 0\n",
      "normal visited 8.48 +- 0.022 steps 4.00 +- 0.000 cost 12.484\n",
      "subgoals visited 10.51 +- 0.043 steps 4.00 +- 0.000 cost 14.51\n",
      "sg_transfer visited 8.48 +- 0.022 steps 4.00 +- 0.000 cost 12.476\n",
      "\n",
      "1 4 8\n",
      "normal visited 6.53 +- 0.022 steps 3.00 +- 0.000 cost 9.532\n",
      "subgoals visited 7.88 +- 0.059 steps 3.00 +- 0.000 cost 10.88\n",
      "sg_transfer visited 6.02 +- 0.041 steps 3.00 +- 0.000 cost 9.024\n",
      "\n",
      "1 5 8\n",
      "normal visited 6.47 +- 0.022 steps 3.00 +- 0.000 cost 9.472\n",
      "subgoals visited 6.78 +- 0.040 steps 3.00 +- 0.000 cost 9.778\n",
      "sg_transfer visited 6.36 +- 0.029 steps 3.00 +- 0.000 cost 9.36\n",
      "\n",
      "1 4 9\n",
      "normal visited 8.48 +- 0.022 steps 4.00 +- 0.000 cost 12.484\n",
      "subgoals visited 10.49 +- 0.042 steps 4.00 +- 0.000 cost 14.486\n",
      "sg_transfer visited 8.51 +- 0.022 steps 4.00 +- 0.000 cost 12.508\n",
      "\n",
      "1 5 9\n",
      "normal visited 8.48 +- 0.022 steps 4.00 +- 0.000 cost 12.476\n",
      "subgoals visited 9.96 +- 0.050 steps 4.00 +- 0.000 cost 13.958\n",
      "sg_transfer visited 8.36 +- 0.028 steps 4.00 +- 0.000 cost 12.356\n",
      "\n"
     ]
    }
   ],
   "source": [
    "'''\n",
    "First checking to see if keeping visited makes sense...\n",
    "Preliminary, I'd say yeah! things like 1>4>8 are examples where it does\n",
    "'''\n",
    "\n",
    "\n",
    "def _doprint(msg, results_fn):\n",
    "    ntimes = 500\n",
    "    visiteds = np.zeros(ntimes)\n",
    "    stepss = np.zeros(ntimes)\n",
    "    for idx in range(ntimes):\n",
    "        visited = 0.\n",
    "        steps = 0.\n",
    "        for res in results_fn():\n",
    "            visited += len(res['visited'])\n",
    "            steps += len(res['path'][1])-1\n",
    "        visiteds[idx] = visited\n",
    "        stepss[idx] = steps\n",
    "    pstat = lambda ns: '{:.2f} +- {:.3f}'.format(np.mean(ns), np.std(ns)/ntimes**0.5)\n",
    "    print(msg, 'visited', pstat(visiteds), 'steps', pstat(stepss), 'cost', np.mean(visiteds+stepss))\n",
    "\n",
    "def dotest(s, sg, g):\n",
    "    print(s, sg, g)\n",
    "    _doprint('normal', lambda: [search.bfs(prior_envs.f2c, s, g)])\n",
    "    _doprint('subgoals', lambda: [search.bfs(prior_envs.f2c, s, sg), search.bfs(prior_envs.f2c, sg, g)])\n",
    "\n",
    "    def x():\n",
    "        res = search.bfs(prior_envs.f2c, s, sg)\n",
    "        res2 = search.bfs(prior_envs.f2c, sg, g, visited_init=res['visited'])\n",
    "        res2['visited'] -= res['visited']\n",
    "        return [res, res2]\n",
    "    _doprint('sg_transfer', x)\n",
    "    print()\n",
    "\n",
    "dotest(0, 4, 8)\n",
    "dotest(0, 5, 8)\n",
    "\n",
    "dotest(8, 4, 0)\n",
    "dotest(8, 5, 0)\n",
    "\n",
    "dotest(1, 4, 8)\n",
    "dotest(1, 5, 8)\n",
    "\n",
    "dotest(1, 4, 9)\n",
    "dotest(1, 5, 9)"
   ]
  },
  {
   "cell_type": "code",
   "execution_count": null,
   "metadata": {},
   "outputs": [],
   "source": [
    "# Next to do is: Make a variant of the environent where the state includes the search history. this should work to pass through BFS which "
   ]
  },
  {
   "cell_type": "code",
   "execution_count": 514,
   "metadata": {},
   "outputs": [],
   "source": [
    "class EnvWithSubgoalsAndVisited(object):\n",
    "    def __init__(self, env, subgoals, search, *, include_actions=False, visited_in_state=True):\n",
    "        '''\n",
    "        An environment modeling a semi-MDP with deterministic subgoals.\n",
    "\n",
    "        Must supply list of subgoals and the costs for navigating to those\n",
    "        subgoals from other states. Costs must a quantity to minimize.\n",
    "        '''\n",
    "        self.env = env\n",
    "        self.subgoals = subgoals\n",
    "        self.search = search\n",
    "        self.include_actions = include_actions\n",
    "        self.visited_in_state = visited_in_state\n",
    "        # ??????? self.states = env.states\n",
    "\n",
    "        actions = []\n",
    "        if self.include_actions:\n",
    "            actions = list(env.actions)\n",
    "        actions += [('sg', idx) for idx in range(len(subgoals))]\n",
    "        self.actions = actions\n",
    "\n",
    "    def step(self, state, a):\n",
    "        si, visited = state\n",
    "        if isinstance(a, tuple) and a[0] == 'sg': # HACK HACK HACK\n",
    "            subgoal = self.subgoals[a[1]]\n",
    "            res = self.search(self.env, si, subgoal, visited_init=visited)\n",
    "            if res is None:\n",
    "                return (si, visited), -float('inf'), None\n",
    "            cost = (\n",
    "                # Cost is new states this search process adds, so set difference from initial list of visited\n",
    "                len(res['visited'] - visited) +\n",
    "                # Along with number of actions needed to reach subgoal\n",
    "                len(res['path'])-1\n",
    "            )\n",
    "            v = res['visited'] if self.visited_in_state else frozenset()\n",
    "            return (subgoal, v), -cost, None\n",
    "        else:\n",
    "            assert False\n",
    "            assert self.include_actions\n",
    "            return self.env.step(si, a)\n"
   ]
  },
  {
   "cell_type": "code",
   "execution_count": 518,
   "metadata": {},
   "outputs": [
    {
     "name": "stdout",
     "output_type": "stream",
     "text": [
      "196.5ms for 1000 loops\n",
      "Current node (1, frozenset()) f 0 g 0\n",
      "\tSuccessors (8, frozenset({0, 1, 2, 3, 4, 5})) f 9 g 9 will add True\n",
      "\tSuccessors (4, frozenset({1, 2})) f 3 g 3 will add True\n",
      "Current node (4, frozenset({1, 2})) f 3 g 3\n",
      "\tSuccessors (8, frozenset({1, 2, 3, 4, 5, 6})) f 9 g 9 will add True\n",
      "\tSuccessors (4, frozenset({1, 2})) f 3 g 3 will add False\n",
      "Current node (8, frozenset({1, 2, 3, 4, 5, 6})) f 9 g 9\n",
      "[(9, -1, 9, (8, frozenset({0, 1, 2, 3, 4, 5})))]\n",
      "{'cost': 9, 'visited': frozenset({(4, frozenset({1, 2})), (1, frozenset())}), 'frontier': frozenset({(8, frozenset({0, 1, 2, 3, 4, 5}))}), 'path': [(1, frozenset()), (4, frozenset({1, 2})), (8, frozenset({1, 2, 3, 4, 5, 6}))]}\n"
     ]
    }
   ],
   "source": [
    "random.seed(30) # includes 4 in the final path\n",
    "env = prior_envs.f2c\n",
    "start, goal = 1, 8\n",
    "\n",
    "import time; st = time.time()\n",
    "for _ in range(1000):\n",
    "    search_fn = lambda *args, **kwargs: search.deterministic_search(*args, algorithm='ucs', **kwargs)\n",
    "    res = search_fn(EnvWithSubgoalsAndVisited(env, [4, goal], search_fn), (start, frozenset()), lambda s: s[0]==goal)\n",
    "print('{:.01f}ms for 1000 loops'.format((time.time()-st)*1000))\n",
    "\n",
    "search_fn = lambda *args, **kwargs: search.deterministic_search(*args, algorithm='ucs', **kwargs)\n",
    "res = search_fn(EnvWithSubgoalsAndVisited(env, [4, goal], search_fn), (start, frozenset()), lambda s: s[0]==goal, debug=True)\n",
    "print(res)"
   ]
  },
  {
   "cell_type": "code",
   "execution_count": 451,
   "metadata": {},
   "outputs": [
    {
     "name": "stdout",
     "output_type": "stream",
     "text": [
      "Current node (1, frozenset()) f 0 g 0\n",
      "\tSuccessors (2, frozenset({0, 1, 4})) f 4 g 4 will add True\n",
      "\tSuccessors (0, frozenset({1, 2})) f 3 g 3 will add True\n",
      "Current node (0, frozenset({1, 2})) f 3 g 3\n",
      "\tSuccessors (0, frozenset({1, 2})) f inf g inf will add False\n",
      "\tSuccessors (0, frozenset({1, 2})) f 3 g 3 will add False\n",
      "Current node (2, frozenset({0, 1, 4})) f 4 g 4\n",
      "{'cost': 4, 'visited': frozenset({(0, frozenset({1, 2})), (1, frozenset())}), 'frontier': frozenset(), 'path': [(1, frozenset()), (2, frozenset({0, 1, 4}))]}\n"
     ]
    }
   ],
   "source": [
    "random.seed(529) # When you don't check res is None, this fails\n",
    "start, goal = 1, 2\n",
    "search_fn = lambda *args, **kwargs: search.deterministic_search(*args, algorithm='ucs', **kwargs)\n",
    "res = search_fn(EnvWithSubgoalsAndVisited(env, [0, goal], search_fn), (start, frozenset()), lambda s: s[0]==goal, debug=True)\n",
    "print(res)"
   ]
  },
  {
   "cell_type": "code",
   "execution_count": 534,
   "metadata": {},
   "outputs": [
    {
     "data": {
      "text/html": [
       "<div><span class=\"Text-label\" style=\"display:inline-block; overflow:hidden; white-space:nowrap; text-overflow:ellipsis; min-width:0; max-width:15ex; vertical-align:middle; text-align:right\"></span>\n",
       "<progress style=\"width:60ex\" max=\"11\" value=\"11\" class=\"Progress-main\"/></progress>\n",
       "<span class=\"Progress-label\"><strong>100%</strong></span>\n",
       "<span class=\"Iteration-label\">11/11</span>\n",
       "<span class=\"Time-label\">[00:07<00:00, 0.63s/it]</span></div>"
      ],
      "text/plain": [
       "\u001b[A\u001b[2K\r",
       " [████████████████████████████████████████████████████████████] 11/11 [00:07<00:00, 0.63s/it]"
      ]
     },
     "metadata": {},
     "output_type": "display_data"
    },
    {
     "name": "stdout",
     "output_type": "stream",
     "text": [
      "[5] cost: 7.121 ± 0.0103\n",
      "[4] cost: 7.138 ± 0.0095\n",
      "[8] cost: 7.227 ± 0.0124\n",
      "[3] cost: 7.236 ± 0.0108\n",
      "[1] cost: 7.238 ± 0.0101\n",
      "[6] cost: 7.246 ± 0.0096\n",
      "[7] cost: 7.396 ± 0.0093\n",
      "[9] cost: 7.404 ± 0.0073\n",
      "[2] cost: 7.409 ± 0.0094\n",
      "[0] cost: 7.411 ± 0.0084\n",
      "[] cost: 7.484 ± 0.0084\n"
     ]
    }
   ],
   "source": [
    "import scipy.stats\n",
    "def option_optimize(\n",
    "    env, *,\n",
    "    num_options=1, samples=50, tqdm=lambda x:x,\n",
    "    option_level_search='ucs',\n",
    "    action_level_search='ucs',\n",
    "    visited_in_state=True,\n",
    "):\n",
    "    option_search_fn = lambda *args, **kwargs: search.deterministic_search(*args, algorithm=option_level_search, **kwargs)\n",
    "    action_search_fn = lambda *args, **kwargs: search.deterministic_search(*args, algorithm=action_level_search, **kwargs)\n",
    "\n",
    "    tasks = list(itertools.permutations(env.states, 2))\n",
    "    subgoals_sets = list(map(list, itertools.combinations(env.states, num_options))) + [[]]\n",
    "\n",
    "    results = []\n",
    "\n",
    "    for subgoals in tqdm(subgoals_sets):\n",
    "        costs = np.zeros(samples)\n",
    "        for start, goal in tasks:\n",
    "            # HACK HACK AHCK make sure we don't repeat subgoals in list??\n",
    "            subgoal_env = EnvWithSubgoalsAndVisited(env, subgoals+[goal], action_search_fn, visited_in_state=visited_in_state)\n",
    "            for i in range(samples):\n",
    "                res = option_search_fn(subgoal_env, (start, frozenset()), lambda s: s[0]==goal)\n",
    "                costs[i] += res['cost']\n",
    "        costs /= len(tasks)\n",
    "        results.append(dict(subgoals=subgoals, cost=np.mean(costs), cost_sem=scipy.stats.sem(costs)))\n",
    "    return results\n",
    "\n",
    "def show_opt_opt_res(results):\n",
    "    results = sorted(results, key=lambda el: el['cost'])\n",
    "    for el in results:\n",
    "        print(el['subgoals'], 'cost: {:.3f} \\u00b1 {:.4f}'.format(el['cost'], el['cost_sem']))\n",
    "\n",
    "show_opt_opt_res(option_optimize(prior_envs.f2c, tqdm=tqdm))"
   ]
  },
  {
   "cell_type": "code",
   "execution_count": 531,
   "metadata": {},
   "outputs": [
    {
     "data": {
      "text/html": [
       "<div><span class=\"Text-label\" style=\"display:inline-block; overflow:hidden; white-space:nowrap; text-overflow:ellipsis; min-width:0; max-width:15ex; vertical-align:middle; text-align:right\"></span>\n",
       "<progress style=\"width:60ex\" max=\"20\" value=\"20\" class=\"Progress-main\"/></progress>\n",
       "<span class=\"Progress-label\"><strong>100%</strong></span>\n",
       "<span class=\"Iteration-label\">20/20</span>\n",
       "<span class=\"Time-label\">[01:56<00:02, 5.81s/it]</span></div>"
      ],
      "text/plain": [
       "\u001b[A\u001b[2K\r",
       " [████████████████████████████████████████████████████████████] 20/20 [01:56<00:02, 5.81s/it]"
      ]
     },
     "metadata": {},
     "output_type": "display_data"
    },
    {
     "name": "stdout",
     "output_type": "stream",
     "text": [
      "[9] cost: 11.909 ± 0.0087\n",
      "[10] cost: 12.017 ± 0.0075\n",
      "[16] cost: 12.022 ± 0.0071\n",
      "[2] cost: 12.026 ± 0.0080\n",
      "[8] cost: 12.032 ± 0.0074\n",
      "[11] cost: 12.339 ± 0.0069\n",
      "[1] cost: 12.345 ± 0.0081\n",
      "[17] cost: 12.350 ± 0.0076\n",
      "[7] cost: 12.352 ± 0.0057\n",
      "[13] cost: 12.363 ± 0.0071\n",
      "[5] cost: 12.370 ± 0.0080\n",
      "[14] cost: 12.546 ± 0.0071\n",
      "[4] cost: 12.552 ± 0.0075\n",
      "[6] cost: 12.590 ± 0.0073\n",
      "[0] cost: 12.594 ± 0.0078\n",
      "[18] cost: 12.597 ± 0.0072\n",
      "[12] cost: 12.604 ± 0.0073\n",
      "[15] cost: 12.649 ± 0.0066\n",
      "[3] cost: 12.658 ± 0.0071\n",
      "[] cost: 12.815 ± 0.0075\n"
     ]
    }
   ],
   "source": [
    "show_opt_opt_res(option_optimize(prior_envs.f2d, tqdm=tqdm))"
   ]
  },
  {
   "cell_type": "code",
   "execution_count": 510,
   "metadata": {},
   "outputs": [
    {
     "data": {
      "image/svg+xml": [
       "<?xml version=\"1.0\" encoding=\"UTF-8\" standalone=\"no\"?>\n",
       "<!DOCTYPE svg PUBLIC \"-//W3C//DTD SVG 1.1//EN\"\n",
       " \"http://www.w3.org/Graphics/SVG/1.1/DTD/svg11.dtd\">\n",
       "<!-- Generated by graphviz version 2.40.1 (20161225.0304)\n",
       " -->\n",
       "<!-- Title: %3 Pages: 1 -->\n",
       "<svg width=\"454pt\" height=\"172pt\"\n",
       " viewBox=\"0.00 0.00 454.00 172.50\" xmlns=\"http://www.w3.org/2000/svg\" xmlns:xlink=\"http://www.w3.org/1999/xlink\">\n",
       "<g id=\"graph0\" class=\"graph\" transform=\"scale(1 1) rotate(0) translate(4 168.5)\">\n",
       "<title>%3</title>\n",
       "<polygon fill=\"#ffffff\" stroke=\"transparent\" points=\"-4,4 -4,-168.5 450,-168.5 450,4 -4,4\"/>\n",
       "<!-- 0 -->\n",
       "<g id=\"node1\" class=\"node\">\n",
       "<title>0</title>\n",
       "<ellipse fill=\"transparent\" stroke=\"#000000\" cx=\"7\" cy=\"-10.5\" rx=\"7\" ry=\"7\"/>\n",
       "</g>\n",
       "<!-- 1 -->\n",
       "<g id=\"node2\" class=\"node\">\n",
       "<title>1</title>\n",
       "<ellipse fill=\"#008800\" fill-opacity=\"0.011765\" stroke=\"#000000\" cx=\"79\" cy=\"-10.5\" rx=\"7.5\" ry=\"7.5\"/>\n",
       "</g>\n",
       "<!-- 0&#45;&#45;1 -->\n",
       "<g id=\"edge1\" class=\"edge\">\n",
       "<title>0&#45;&#45;1</title>\n",
       "<path fill=\"none\" stroke=\"#000000\" stroke-width=\"7\" d=\"M14.1669,-10.5C27.8255,-10.5 57.4648,-10.5 71.4308,-10.5\"/>\n",
       "</g>\n",
       "<!-- 3 -->\n",
       "<g id=\"node3\" class=\"node\">\n",
       "<title>3</title>\n",
       "<ellipse fill=\"transparent\" stroke=\"#000000\" cx=\"7\" cy=\"-82.5\" rx=\"7\" ry=\"7\"/>\n",
       "</g>\n",
       "<!-- 0&#45;&#45;3 -->\n",
       "<g id=\"edge2\" class=\"edge\">\n",
       "<title>0&#45;&#45;3</title>\n",
       "<path fill=\"none\" stroke=\"#000000\" stroke-width=\"7\" d=\"M7,-17.6669C7,-31.4678 7,-61.5841 7,-75.3621\"/>\n",
       "</g>\n",
       "<!-- 2 -->\n",
       "<g id=\"node4\" class=\"node\">\n",
       "<title>2</title>\n",
       "<ellipse fill=\"#008800\" fill-opacity=\"0.294118\" stroke=\"#000000\" cx=\"151\" cy=\"-10.5\" rx=\"10.5\" ry=\"10.5\"/>\n",
       "</g>\n",
       "<!-- 1&#45;&#45;2 -->\n",
       "<g id=\"edge3\" class=\"edge\">\n",
       "<title>1&#45;&#45;2</title>\n",
       "<path fill=\"none\" stroke=\"#000000\" stroke-width=\"7\" d=\"M86.7053,-10.5C99.62,-10.5 125.6591,-10.5 140.3277,-10.5\"/>\n",
       "</g>\n",
       "<!-- 4 -->\n",
       "<g id=\"node5\" class=\"node\">\n",
       "<title>4</title>\n",
       "<ellipse fill=\"transparent\" stroke=\"#000000\" cx=\"79\" cy=\"-82.5\" rx=\"7\" ry=\"7\"/>\n",
       "</g>\n",
       "<!-- 1&#45;&#45;4 -->\n",
       "<g id=\"edge4\" class=\"edge\">\n",
       "<title>1&#45;&#45;4</title>\n",
       "<path fill=\"none\" stroke=\"#000000\" stroke-width=\"7\" d=\"M79,-18.2053C79,-32.2809 79,-61.9463 79,-75.4899\"/>\n",
       "</g>\n",
       "<!-- 3&#45;&#45;4 -->\n",
       "<g id=\"edge7\" class=\"edge\">\n",
       "<title>3&#45;&#45;4</title>\n",
       "<path fill=\"none\" stroke=\"#000000\" stroke-width=\"7\" d=\"M14.1669,-82.5C27.9678,-82.5 58.0841,-82.5 71.8621,-82.5\"/>\n",
       "</g>\n",
       "<!-- 6 -->\n",
       "<g id=\"node8\" class=\"node\">\n",
       "<title>6</title>\n",
       "<ellipse fill=\"transparent\" stroke=\"#000000\" cx=\"7\" cy=\"-154.5\" rx=\"7\" ry=\"7\"/>\n",
       "</g>\n",
       "<!-- 3&#45;&#45;6 -->\n",
       "<g id=\"edge8\" class=\"edge\">\n",
       "<title>3&#45;&#45;6</title>\n",
       "<path fill=\"none\" stroke=\"#000000\" stroke-width=\"7\" d=\"M7,-89.6669C7,-103.4678 7,-133.5841 7,-147.3621\"/>\n",
       "</g>\n",
       "<!-- 5 -->\n",
       "<g id=\"node6\" class=\"node\">\n",
       "<title>5</title>\n",
       "<ellipse fill=\"#008800\" fill-opacity=\"0.007843\" stroke=\"#000000\" cx=\"151\" cy=\"-82.5\" rx=\"7.5\" ry=\"7.5\"/>\n",
       "</g>\n",
       "<!-- 2&#45;&#45;5 -->\n",
       "<g id=\"edge5\" class=\"edge\">\n",
       "<title>2&#45;&#45;5</title>\n",
       "<path fill=\"none\" stroke=\"#000000\" stroke-width=\"7\" d=\"M151,-21.1238C151,-35.8319 151,-62.0381 151,-74.9223\"/>\n",
       "</g>\n",
       "<!-- 9 -->\n",
       "<g id=\"node7\" class=\"node\">\n",
       "<title>9</title>\n",
       "<ellipse fill=\"#008800\" stroke=\"#000000\" cx=\"223\" cy=\"-82.5\" rx=\"18\" ry=\"18\"/>\n",
       "</g>\n",
       "<!-- 2&#45;&#45;9 -->\n",
       "<g id=\"edge6\" class=\"edge\">\n",
       "<title>2&#45;&#45;9</title>\n",
       "<path fill=\"none\" stroke=\"#000000\" stroke-width=\"7\" d=\"M158.4341,-17.9341C170.6501,-30.1501 195.1139,-54.6139 210.1719,-69.6719\"/>\n",
       "</g>\n",
       "<!-- 4&#45;&#45;5 -->\n",
       "<g id=\"edge9\" class=\"edge\">\n",
       "<title>4&#45;&#45;5</title>\n",
       "<path fill=\"none\" stroke=\"#000000\" stroke-width=\"7\" d=\"M86.1669,-82.5C99.8255,-82.5 129.4648,-82.5 143.4308,-82.5\"/>\n",
       "</g>\n",
       "<!-- 7 -->\n",
       "<g id=\"node9\" class=\"node\">\n",
       "<title>7</title>\n",
       "<ellipse fill=\"#008800\" fill-opacity=\"0.007843\" stroke=\"#000000\" cx=\"79\" cy=\"-154.5\" rx=\"7.5\" ry=\"7.5\"/>\n",
       "</g>\n",
       "<!-- 4&#45;&#45;7 -->\n",
       "<g id=\"edge10\" class=\"edge\">\n",
       "<title>4&#45;&#45;7</title>\n",
       "<path fill=\"none\" stroke=\"#000000\" stroke-width=\"7\" d=\"M79,-89.6669C79,-103.3255 79,-132.9648 79,-146.9308\"/>\n",
       "</g>\n",
       "<!-- 8 -->\n",
       "<g id=\"node10\" class=\"node\">\n",
       "<title>8</title>\n",
       "<ellipse fill=\"#008800\" fill-opacity=\"0.274510\" stroke=\"#000000\" cx=\"151\" cy=\"-154.5\" rx=\"10\" ry=\"10\"/>\n",
       "</g>\n",
       "<!-- 5&#45;&#45;8 -->\n",
       "<g id=\"edge11\" class=\"edge\">\n",
       "<title>5&#45;&#45;8</title>\n",
       "<path fill=\"none\" stroke=\"#000000\" stroke-width=\"7\" d=\"M151,-90.2053C151,-103.2651 151,-129.7459 151,-144.3178\"/>\n",
       "</g>\n",
       "<!-- 10 -->\n",
       "<g id=\"node11\" class=\"node\">\n",
       "<title>10</title>\n",
       "<ellipse fill=\"#008800\" fill-opacity=\"0.262745\" stroke=\"#000000\" cx=\"295\" cy=\"-10.5\" rx=\"10\" ry=\"10\"/>\n",
       "</g>\n",
       "<!-- 9&#45;&#45;10 -->\n",
       "<g id=\"edge15\" class=\"edge\">\n",
       "<title>9&#45;&#45;10</title>\n",
       "<path fill=\"none\" stroke=\"#000000\" stroke-width=\"7\" d=\"M235.8722,-69.6278C251.0809,-54.4191 275.8398,-29.6602 287.9199,-17.5801\"/>\n",
       "</g>\n",
       "<!-- 16 -->\n",
       "<g id=\"node12\" class=\"node\">\n",
       "<title>16</title>\n",
       "<ellipse fill=\"#008800\" fill-opacity=\"0.266667\" stroke=\"#000000\" cx=\"295\" cy=\"-154.5\" rx=\"10\" ry=\"10\"/>\n",
       "</g>\n",
       "<!-- 9&#45;&#45;16 -->\n",
       "<g id=\"edge16\" class=\"edge\">\n",
       "<title>9&#45;&#45;16</title>\n",
       "<path fill=\"none\" stroke=\"#000000\" stroke-width=\"7\" d=\"M235.8722,-95.3722C251.0809,-110.5809 275.8398,-135.3398 287.9199,-147.4199\"/>\n",
       "</g>\n",
       "<!-- 6&#45;&#45;7 -->\n",
       "<g id=\"edge12\" class=\"edge\">\n",
       "<title>6&#45;&#45;7</title>\n",
       "<path fill=\"none\" stroke=\"#000000\" stroke-width=\"7\" d=\"M14.1669,-154.5C27.8255,-154.5 57.4648,-154.5 71.4308,-154.5\"/>\n",
       "</g>\n",
       "<!-- 7&#45;&#45;8 -->\n",
       "<g id=\"edge13\" class=\"edge\">\n",
       "<title>7&#45;&#45;8</title>\n",
       "<path fill=\"none\" stroke=\"#000000\" stroke-width=\"7\" d=\"M86.7053,-154.5C99.7651,-154.5 126.2459,-154.5 140.8178,-154.5\"/>\n",
       "</g>\n",
       "<!-- 8&#45;&#45;9 -->\n",
       "<g id=\"edge14\" class=\"edge\">\n",
       "<title>8&#45;&#45;9</title>\n",
       "<path fill=\"none\" stroke=\"#000000\" stroke-width=\"7\" d=\"M158.1669,-147.3331C170.2605,-135.2395 194.8823,-110.6177 210.0603,-95.4397\"/>\n",
       "</g>\n",
       "<!-- 11 -->\n",
       "<g id=\"node13\" class=\"node\">\n",
       "<title>11</title>\n",
       "<ellipse fill=\"#008800\" fill-opacity=\"0.011765\" stroke=\"#000000\" cx=\"367\" cy=\"-10.5\" rx=\"7.5\" ry=\"7.5\"/>\n",
       "</g>\n",
       "<!-- 10&#45;&#45;11 -->\n",
       "<g id=\"edge17\" class=\"edge\">\n",
       "<title>10&#45;&#45;11</title>\n",
       "<path fill=\"none\" stroke=\"#000000\" stroke-width=\"7\" d=\"M305.0113,-10.5C319.5399,-10.5 346.1605,-10.5 359.2777,-10.5\"/>\n",
       "</g>\n",
       "<!-- 13 -->\n",
       "<g id=\"node14\" class=\"node\">\n",
       "<title>13</title>\n",
       "<ellipse fill=\"#008800\" fill-opacity=\"0.007843\" stroke=\"#000000\" cx=\"295\" cy=\"-82.5\" rx=\"7.5\" ry=\"7.5\"/>\n",
       "</g>\n",
       "<!-- 10&#45;&#45;13 -->\n",
       "<g id=\"edge18\" class=\"edge\">\n",
       "<title>10&#45;&#45;13</title>\n",
       "<path fill=\"none\" stroke=\"#000000\" stroke-width=\"7\" d=\"M295,-20.5113C295,-35.0399 295,-61.6605 295,-74.7777\"/>\n",
       "</g>\n",
       "<!-- 17 -->\n",
       "<g id=\"node18\" class=\"node\">\n",
       "<title>17</title>\n",
       "<ellipse fill=\"#008800\" fill-opacity=\"0.007843\" stroke=\"#000000\" cx=\"367\" cy=\"-154.5\" rx=\"7.5\" ry=\"7.5\"/>\n",
       "</g>\n",
       "<!-- 16&#45;&#45;17 -->\n",
       "<g id=\"edge27\" class=\"edge\">\n",
       "<title>16&#45;&#45;17</title>\n",
       "<path fill=\"none\" stroke=\"#000000\" stroke-width=\"7\" d=\"M305.0113,-154.5C319.5399,-154.5 346.1605,-154.5 359.2777,-154.5\"/>\n",
       "</g>\n",
       "<!-- 12 -->\n",
       "<g id=\"node15\" class=\"node\">\n",
       "<title>12</title>\n",
       "<ellipse fill=\"transparent\" stroke=\"#000000\" cx=\"439\" cy=\"-10.5\" rx=\"7\" ry=\"7\"/>\n",
       "</g>\n",
       "<!-- 11&#45;&#45;12 -->\n",
       "<g id=\"edge19\" class=\"edge\">\n",
       "<title>11&#45;&#45;12</title>\n",
       "<path fill=\"none\" stroke=\"#000000\" stroke-width=\"7\" d=\"M374.7053,-10.5C388.7809,-10.5 418.4463,-10.5 431.9899,-10.5\"/>\n",
       "</g>\n",
       "<!-- 14 -->\n",
       "<g id=\"node16\" class=\"node\">\n",
       "<title>14</title>\n",
       "<ellipse fill=\"transparent\" stroke=\"#000000\" cx=\"367\" cy=\"-82.5\" rx=\"7\" ry=\"7\"/>\n",
       "</g>\n",
       "<!-- 11&#45;&#45;14 -->\n",
       "<g id=\"edge20\" class=\"edge\">\n",
       "<title>11&#45;&#45;14</title>\n",
       "<path fill=\"none\" stroke=\"#000000\" stroke-width=\"7\" d=\"M367,-18.2053C367,-32.2809 367,-61.9463 367,-75.4899\"/>\n",
       "</g>\n",
       "<!-- 13&#45;&#45;16 -->\n",
       "<g id=\"edge23\" class=\"edge\">\n",
       "<title>13&#45;&#45;16</title>\n",
       "<path fill=\"none\" stroke=\"#000000\" stroke-width=\"7\" d=\"M295,-90.2053C295,-103.2651 295,-129.7459 295,-144.3178\"/>\n",
       "</g>\n",
       "<!-- 13&#45;&#45;14 -->\n",
       "<g id=\"edge22\" class=\"edge\">\n",
       "<title>13&#45;&#45;14</title>\n",
       "<path fill=\"none\" stroke=\"#000000\" stroke-width=\"7\" d=\"M302.7053,-82.5C316.7809,-82.5 346.4463,-82.5 359.9899,-82.5\"/>\n",
       "</g>\n",
       "<!-- 15 -->\n",
       "<g id=\"node17\" class=\"node\">\n",
       "<title>15</title>\n",
       "<ellipse fill=\"transparent\" stroke=\"#000000\" cx=\"439\" cy=\"-82.5\" rx=\"7\" ry=\"7\"/>\n",
       "</g>\n",
       "<!-- 12&#45;&#45;15 -->\n",
       "<g id=\"edge21\" class=\"edge\">\n",
       "<title>12&#45;&#45;15</title>\n",
       "<path fill=\"none\" stroke=\"#000000\" stroke-width=\"7\" d=\"M439,-17.6669C439,-31.4678 439,-61.5841 439,-75.3621\"/>\n",
       "</g>\n",
       "<!-- 14&#45;&#45;15 -->\n",
       "<g id=\"edge24\" class=\"edge\">\n",
       "<title>14&#45;&#45;15</title>\n",
       "<path fill=\"none\" stroke=\"#000000\" stroke-width=\"7\" d=\"M374.1669,-82.5C387.9678,-82.5 418.0841,-82.5 431.8621,-82.5\"/>\n",
       "</g>\n",
       "<!-- 14&#45;&#45;17 -->\n",
       "<g id=\"edge25\" class=\"edge\">\n",
       "<title>14&#45;&#45;17</title>\n",
       "<path fill=\"none\" stroke=\"#000000\" stroke-width=\"7\" d=\"M367,-89.6669C367,-103.3255 367,-132.9648 367,-146.9308\"/>\n",
       "</g>\n",
       "<!-- 18 -->\n",
       "<g id=\"node19\" class=\"node\">\n",
       "<title>18</title>\n",
       "<ellipse fill=\"transparent\" stroke=\"#000000\" cx=\"439\" cy=\"-154.5\" rx=\"7\" ry=\"7\"/>\n",
       "</g>\n",
       "<!-- 15&#45;&#45;18 -->\n",
       "<g id=\"edge26\" class=\"edge\">\n",
       "<title>15&#45;&#45;18</title>\n",
       "<path fill=\"none\" stroke=\"#000000\" stroke-width=\"7\" d=\"M439,-89.6669C439,-103.4678 439,-133.5841 439,-147.3621\"/>\n",
       "</g>\n",
       "<!-- 17&#45;&#45;18 -->\n",
       "<g id=\"edge28\" class=\"edge\">\n",
       "<title>17&#45;&#45;18</title>\n",
       "<path fill=\"none\" stroke=\"#000000\" stroke-width=\"7\" d=\"M374.7053,-154.5C388.7809,-154.5 418.4463,-154.5 431.9899,-154.5\"/>\n",
       "</g>\n",
       "</g>\n",
       "</svg>\n"
      ],
      "text/plain": [
       "<graphviz.dot.Graph at 0x127f27f98>"
      ]
     },
     "execution_count": 510,
     "metadata": {},
     "output_type": "execute_result"
    }
   ],
   "source": [
    "env = prior_envs.f2d\n",
    "zs = torch.zeros(len(env.states))\n",
    "for el in _490:\n",
    "    if len(el['subgoals']) == 1:\n",
    "        zs[el['subgoals'][0]] = -10*el['cost']\n",
    "diffplan.plot_graph(prior_envs.f2d, z=zs.softmax(0))"
   ]
  },
  {
   "cell_type": "markdown",
   "metadata": {},
   "source": [
    "# Fiddling with parameters"
   ]
  },
  {
   "cell_type": "code",
   "execution_count": 543,
   "metadata": {},
   "outputs": [
    {
     "name": "stdout",
     "output_type": "stream",
     "text": [
      "dfs\n"
     ]
    },
    {
     "data": {
      "text/html": [
       "<div><span class=\"Text-label\" style=\"display:inline-block; overflow:hidden; white-space:nowrap; text-overflow:ellipsis; min-width:0; max-width:15ex; vertical-align:middle; text-align:right\"></span>\n",
       "<progress style=\"width:60ex\" max=\"11\" value=\"11\" class=\"Progress-main\"/></progress>\n",
       "<span class=\"Progress-label\"><strong>100%</strong></span>\n",
       "<span class=\"Iteration-label\">11/11</span>\n",
       "<span class=\"Time-label\">[00:07<00:00, 0.64s/it]</span></div>"
      ],
      "text/plain": [
       "\u001b[A\u001b[2K\r",
       " [████████████████████████████████████████████████████████████] 11/11 [00:07<00:00, 0.64s/it]"
      ]
     },
     "metadata": {},
     "output_type": "display_data"
    },
    {
     "name": "stdout",
     "output_type": "stream",
     "text": [
      "[5] cost: 7.071 ± 0.0332\n",
      "[4] cost: 7.071 ± 0.0286\n",
      "[3] cost: 7.210 ± 0.0351\n",
      "[1] cost: 7.236 ± 0.0359\n",
      "[8] cost: 7.260 ± 0.0219\n",
      "[6] cost: 7.264 ± 0.0316\n",
      "[9] cost: 7.306 ± 0.0405\n",
      "[2] cost: 7.311 ± 0.0334\n",
      "[0] cost: 7.321 ± 0.0327\n",
      "[7] cost: 7.381 ± 0.0268\n",
      "[] cost: 7.407 ± 0.0285\n",
      "bfs\n"
     ]
    },
    {
     "data": {
      "text/html": [
       "<div><span class=\"Text-label\" style=\"display:inline-block; overflow:hidden; white-space:nowrap; text-overflow:ellipsis; min-width:0; max-width:15ex; vertical-align:middle; text-align:right\"></span>\n",
       "<progress style=\"width:60ex\" max=\"11\" value=\"11\" class=\"Progress-main\"/></progress>\n",
       "<span class=\"Progress-label\"><strong>100%</strong></span>\n",
       "<span class=\"Iteration-label\">11/11</span>\n",
       "<span class=\"Time-label\">[00:07<00:00, 0.65s/it]</span></div>"
      ],
      "text/plain": [
       "\u001b[A\u001b[2K\r",
       " [████████████████████████████████████████████████████████████] 11/11 [00:07<00:00, 0.65s/it]"
      ]
     },
     "metadata": {},
     "output_type": "display_data"
    },
    {
     "name": "stdout",
     "output_type": "stream",
     "text": [
      "[4] cost: 7.166 ± 0.0108\n",
      "[5] cost: 7.178 ± 0.0103\n",
      "[1] cost: 7.266 ± 0.0114\n",
      "[6] cost: 7.267 ± 0.0101\n",
      "[3] cost: 7.270 ± 0.0101\n",
      "[8] cost: 7.273 ± 0.0112\n",
      "[9] cost: 7.402 ± 0.0103\n",
      "[0] cost: 7.410 ± 0.0104\n",
      "[2] cost: 7.412 ± 0.0099\n",
      "[7] cost: 7.432 ± 0.0096\n",
      "[] cost: 7.466 ± 0.0090\n",
      "ucs\n"
     ]
    },
    {
     "data": {
      "text/html": [
       "<div><span class=\"Text-label\" style=\"display:inline-block; overflow:hidden; white-space:nowrap; text-overflow:ellipsis; min-width:0; max-width:15ex; vertical-align:middle; text-align:right\"></span>\n",
       "<progress style=\"width:60ex\" max=\"11\" value=\"11\" class=\"Progress-main\"/></progress>\n",
       "<span class=\"Progress-label\"><strong>100%</strong></span>\n",
       "<span class=\"Iteration-label\">11/11</span>\n",
       "<span class=\"Time-label\">[00:07<00:00, 0.60s/it]</span></div>"
      ],
      "text/plain": [
       "\u001b[A\u001b[2K\r",
       " [████████████████████████████████████████████████████████████] 11/11 [00:07<00:00, 0.60s/it]"
      ]
     },
     "metadata": {},
     "output_type": "display_data"
    },
    {
     "name": "stdout",
     "output_type": "stream",
     "text": [
      "[5] cost: 7.127 ± 0.0096\n",
      "[4] cost: 7.141 ± 0.0119\n",
      "[3] cost: 7.225 ± 0.0096\n",
      "[8] cost: 7.227 ± 0.0104\n",
      "[1] cost: 7.230 ± 0.0111\n",
      "[6] cost: 7.262 ± 0.0109\n",
      "[2] cost: 7.388 ± 0.0083\n",
      "[0] cost: 7.390 ± 0.0084\n",
      "[9] cost: 7.392 ± 0.0091\n",
      "[7] cost: 7.402 ± 0.0102\n",
      "[] cost: 7.462 ± 0.0098\n"
     ]
    }
   ],
   "source": [
    "# comparing search algorithms...\n",
    "\n",
    "print('dfs')\n",
    "show_opt_opt_res(option_optimize(prior_envs.f2c, tqdm=tqdm, action_level_search='dfs'))\n",
    "print('bfs')\n",
    "show_opt_opt_res(option_optimize(prior_envs.f2c, tqdm=tqdm, action_level_search='bfs'))\n",
    "print('ucs')\n",
    "show_opt_opt_res(option_optimize(prior_envs.f2c, tqdm=tqdm, action_level_search='ucs'))"
   ]
  },
  {
   "cell_type": "code",
   "execution_count": 541,
   "metadata": {},
   "outputs": [
    {
     "data": {
      "text/html": [
       "<div><span class=\"Text-label\" style=\"display:inline-block; overflow:hidden; white-space:nowrap; text-overflow:ellipsis; min-width:0; max-width:15ex; vertical-align:middle; text-align:right\"></span>\n",
       "<progress style=\"width:60ex\" max=\"11\" value=\"11\" class=\"Progress-main\"/></progress>\n",
       "<span class=\"Progress-label\"><strong>100%</strong></span>\n",
       "<span class=\"Iteration-label\">11/11</span>\n",
       "<span class=\"Time-label\">[00:07<00:00, 0.67s/it]</span></div>"
      ],
      "text/plain": [
       "\u001b[A\u001b[2K\r",
       " [████████████████████████████████████████████████████████████] 11/11 [00:07<00:00, 0.67s/it]"
      ]
     },
     "metadata": {},
     "output_type": "display_data"
    },
    {
     "name": "stdout",
     "output_type": "stream",
     "text": [
      "[4] cost: 7.312 ± 0.0099\n",
      "[5] cost: 7.318 ± 0.0112\n",
      "[6] cost: 7.328 ± 0.0106\n",
      "[1] cost: 7.330 ± 0.0094\n",
      "[3] cost: 7.333 ± 0.0101\n",
      "[8] cost: 7.352 ± 0.0099\n",
      "[9] cost: 7.407 ± 0.0105\n",
      "[0] cost: 7.413 ± 0.0097\n",
      "[7] cost: 7.424 ± 0.0097\n",
      "[2] cost: 7.424 ± 0.0092\n",
      "[] cost: 7.466 ± 0.0110\n"
     ]
    },
    {
     "data": {
      "text/html": [
       "<div><span class=\"Text-label\" style=\"display:inline-block; overflow:hidden; white-space:nowrap; text-overflow:ellipsis; min-width:0; max-width:15ex; vertical-align:middle; text-align:right\"></span>\n",
       "<progress style=\"width:60ex\" max=\"11\" value=\"11\" class=\"Progress-main\"/></progress>\n",
       "<span class=\"Progress-label\"><strong>100%</strong></span>\n",
       "<span class=\"Iteration-label\">11/11</span>\n",
       "<span class=\"Time-label\">[00:07<00:00, 0.62s/it]</span></div>"
      ],
      "text/plain": [
       "\u001b[A\u001b[2K\r",
       " [████████████████████████████████████████████████████████████] 11/11 [00:07<00:00, 0.62s/it]"
      ]
     },
     "metadata": {},
     "output_type": "display_data"
    },
    {
     "name": "stdout",
     "output_type": "stream",
     "text": [
      "[3] cost: 7.311 ± 0.0109\n",
      "[8] cost: 7.320 ± 0.0110\n",
      "[4] cost: 7.322 ± 0.0102\n",
      "[5] cost: 7.322 ± 0.0121\n",
      "[1] cost: 7.324 ± 0.0103\n",
      "[6] cost: 7.327 ± 0.0111\n",
      "[7] cost: 7.407 ± 0.0087\n",
      "[9] cost: 7.413 ± 0.0114\n",
      "[2] cost: 7.415 ± 0.0100\n",
      "[0] cost: 7.429 ± 0.0100\n",
      "[] cost: 7.463 ± 0.0097\n"
     ]
    }
   ],
   "source": [
    "# Why does BFS prefer 134568 over 0279?\n",
    "show_opt_opt_res(option_optimize(prior_envs.f2c, tqdm=tqdm, visited_in_state=False, action_level_search='bfs'))\n",
    "show_opt_opt_res(option_optimize(prior_envs.f2c, tqdm=tqdm, visited_in_state=False, action_level_search='bfs'))"
   ]
  },
  {
   "cell_type": "code",
   "execution_count": 563,
   "metadata": {},
   "outputs": [
    {
     "name": "stdout",
     "output_type": "stream",
     "text": [
      "{'options': (0,), 'value': -7.360000228881836}\n",
      "{'options': (1,), 'value': -7.360000228881836}\n",
      "{'options': (2,), 'value': -7.360000228881836}\n",
      "{'options': (3,), 'value': -7.360000228881836}\n",
      "{'options': (4,), 'value': -7.360000228881836}\n",
      "{'options': (5,), 'value': -7.360000228881836}\n",
      "{'options': (6,), 'value': -7.360000228881836}\n",
      "{'options': (7,), 'value': -7.360000228881836}\n",
      "{'options': (8,), 'value': -7.360000228881836}\n",
      "{'options': (9,), 'value': -7.360000228881836}\n"
     ]
    }
   ],
   "source": [
    "# ok looking at old BFS\n",
    "env = prior_envs.f2c\n",
    "D = diffplan.compute_distance_matrix(env)\n",
    "BFS = diffplan.compute_bfs_matrix(env, D)\n",
    "d=diffplan.option_learner_enum(env, search_cost=D+BFS, num_options=1, option_planner_bfs_vec=diffplan.option_planner_hardmax, top_results=10)"
   ]
  },
  {
   "cell_type": "code",
   "execution_count": 629,
   "metadata": {},
   "outputs": [
    {
     "data": {
      "text/plain": [
       "0.9975559210907542"
      ]
     },
     "execution_count": 629,
     "metadata": {},
     "output_type": "execute_result"
    },
    {
     "data": {
      "image/png": "[encoded data removed]",
      "text/plain": [
       "<Figure size 432x288 with 2 Axes>"
      ]
     },
     "metadata": {
      "needs_background": "light"
     },
     "output_type": "display_data"
    },
    {
     "data": {
      "image/png": "[encoded data removed]",
      "text/plain": [
       "<Figure size 432x288 with 2 Axes>"
      ]
     },
     "metadata": {
      "needs_background": "light"
     },
     "output_type": "display_data"
    },
    {
     "data": {
      "image/png": "[encoded data removed]",
      "text/plain": [
       "<Figure size 432x288 with 2 Axes>"
      ]
     },
     "metadata": {
      "needs_background": "light"
     },
     "output_type": "display_data"
    }
   ],
   "source": [
    "plt.figure()\n",
    "plt.imshow(BFS-bfs_plan_costs, cmap='gray', vmin=0)\n",
    "plt.title('difference (analytic - sample)')\n",
    "plt.colorbar()\n",
    "\n",
    "plt.figure()\n",
    "plt.imshow(BFS, cmap='Reds', vmin=0, vmax=10)\n",
    "plt.title('analytic')\n",
    "plt.xlabel('goal');plt.ylabel('start')\n",
    "plt.colorbar()\n",
    "\n",
    "plt.figure()\n",
    "plt.imshow(bfs_plan_costs, cmap='Reds', vmin=0, vmax=10)\n",
    "plt.title('sample')\n",
    "plt.xlabel('goal');plt.ylabel('start')\n",
    "plt.colorbar()\n",
    "\n",
    "np.corrcoef(BFS.flatten(), bfs_plan_costs.flatten())[0, 1]"
   ]
  },
  {
   "cell_type": "code",
   "execution_count": 630,
   "metadata": {},
   "outputs": [],
   "source": [
    "def compute_bfs_matrix2(env, distance):\n",
    "    def expected_bfs_cost(env, distance, termination_idx):\n",
    "        # We estimate the number of nodes that would be visited\n",
    "        # in breadth-first search. For a node s at distance d from goal state,\n",
    "        # we know this is the number of nodes with distance<d\n",
    "        # plus half the nodes with distance==d.\n",
    "        bfs_cost = torch.zeros(len(env.states))\n",
    "        for s in env.states:\n",
    "            d = distance[s, termination_idx]\n",
    "            bfs_cost[s] = (\n",
    "                (distance[s]<d).sum() +\n",
    "                # We add one since we always have at least one comparison.\n",
    "                ((distance[s] == d).sum()-1.)/2\n",
    "            )\n",
    "        return bfs_cost\n",
    "\n",
    "    BFS = torch.zeros((len(env.states), len(env.states)))\n",
    "    for s_term in env.states:\n",
    "        BFS[:, s_term] = expected_bfs_cost(env, distance, s_term)\n",
    "    return BFS\n",
    "BFS2 = compute_bfs_matrix2(env, D)"
   ]
  },
  {
   "cell_type": "code",
   "execution_count": 631,
   "metadata": {},
   "outputs": [
    {
     "data": {
      "text/plain": [
       "0.9975559210907542"
      ]
     },
     "execution_count": 631,
     "metadata": {},
     "output_type": "execute_result"
    },
    {
     "data": {
      "image/png": "[encoded data removed]",
      "text/plain": [
       "<Figure size 432x288 with 2 Axes>"
      ]
     },
     "metadata": {
      "needs_background": "light"
     },
     "output_type": "display_data"
    },
    {
     "data": {
      "image/png": "[encoded data removed]",
      "text/plain": [
       "<Figure size 432x288 with 2 Axes>"
      ]
     },
     "metadata": {
      "needs_background": "light"
     },
     "output_type": "display_data"
    },
    {
     "data": {
      "image/png": "[encoded data removed]",
      "text/plain": [
       "<Figure size 432x288 with 2 Axes>"
      ]
     },
     "metadata": {
      "needs_background": "light"
     },
     "output_type": "display_data"
    }
   ],
   "source": [
    "plt.figure()\n",
    "plt.imshow(BFS2-bfs_plan_costs, cmap='gray', vmin=0)\n",
    "plt.title('difference (analytic - sample)')\n",
    "plt.colorbar()\n",
    "\n",
    "plt.figure()\n",
    "plt.imshow(BFS2, cmap='Reds', vmin=0, vmax=10)\n",
    "plt.title('analytic')\n",
    "plt.xlabel('goal');plt.ylabel('start')\n",
    "plt.colorbar()\n",
    "\n",
    "plt.figure()\n",
    "plt.imshow(bfs_plan_costs, cmap='Reds', vmin=0, vmax=10)\n",
    "plt.title('sample')\n",
    "plt.xlabel('goal');plt.ylabel('start')\n",
    "plt.colorbar()\n",
    "\n",
    "np.corrcoef(BFS2.flatten(), bfs_plan_costs.flatten())[0, 1]"
   ]
  },
  {
   "cell_type": "code",
   "execution_count": 632,
   "metadata": {},
   "outputs": [
    {
     "data": {
      "text/html": [
       "<div><span class=\"Text-label\" style=\"display:inline-block; overflow:hidden; white-space:nowrap; text-overflow:ellipsis; min-width:0; max-width:15ex; vertical-align:middle; text-align:right\"></span>\n",
       "<progress style=\"width:60ex\" max=\"10\" value=\"10\" class=\"Progress-main\"/></progress>\n",
       "<span class=\"Progress-label\"><strong>100%</strong></span>\n",
       "<span class=\"Iteration-label\">10/10</span>\n",
       "<span class=\"Time-label\">[00:02<00:00, 0.17s/it]</span></div>"
      ],
      "text/plain": [
       "\u001b[A\u001b[2K\r",
       " [████████████████████████████████████████████████████████████] 10/10 [00:02<00:00, 0.17s/it]"
      ]
     },
     "metadata": {},
     "output_type": "display_data"
    },
    {
     "name": "stdout",
     "output_type": "stream",
     "text": [
      "{'options': (5,), 'value': -3.7868598222732546}\n",
      "{'options': (4,), 'value': -3.7903199672698973}\n",
      "{'options': (8,), 'value': -4.311039972305298}\n",
      "{'options': (6,), 'value': -4.311199903488159}\n",
      "{'options': (1,), 'value': -4.311459946632385}\n",
      "{'options': (3,), 'value': -4.318540024757385}\n",
      "{'options': (0,), 'value': -4.679400062561035}\n",
      "{'options': (9,), 'value': -4.686279964447022}\n",
      "{'options': (2,), 'value': -4.6863199234008786}\n",
      "{'options': (7,), 'value': -4.687879824638367}\n",
      "{'options': (), 'value': -6.717899990081787}\n"
     ]
    }
   ],
   "source": [
    "# how to interpret this???\n",
    "def sim_bfs(env, s, g):\n",
    "    res = search.bfs(env, s, g)\n",
    "    return res['cost'], len(res['visited'])\n",
    "bfs_distance, bfs_plan_costs = diffplan.compute_search_matrix(env, search_fn=sim_bfs, samples=500, tqdm=tqdm)\n",
    "assert torch.all(bfs_distance == D)\n",
    "d=diffplan.option_learner_enum(env, search_cost=bfs_distance+bfs_plan_costs, num_options=1, option_planner_bfs_vec=diffplan.option_planner_hardmax, top_results=11)"
   ]
  },
  {
   "cell_type": "code",
   "execution_count": 637,
   "metadata": {},
   "outputs": [
    {
     "name": "stdout",
     "output_type": "stream",
     "text": [
      "0 6.5502\n",
      "1 6.5174\n",
      "2 6.5632\n",
      "3 6.5274\n",
      "4 6.468\n",
      "5 6.4628\n",
      "6 6.5354\n",
      "7 6.5412\n",
      "8 6.529\n",
      "9 6.5458\n"
     ]
    }
   ],
   "source": [
    "# replicating...\n",
    "env, start, goal = prior_envs.f2c, 1, 8\n",
    "subgoal = 4\n",
    "\n",
    "search_fn = lambda *args, **kwargs: search.deterministic_search(*args, algorithm='ucs', **kwargs)\n",
    "action_search_fn = search_fn # normally...\n",
    "# Having this static action search fn replicates!\n",
    "def action_search_fn(env, s, g, visited_init=None):\n",
    "    return dict(\n",
    "        visited=set(range(int(round(BFS2[s,g].item())))),\n",
    "        path=[None]+[None]*int(round(D[s,g].item())),\n",
    "    )\n",
    "action_search_fn = lambda *args, **kw: search.dfs(*args, return_path=True, **kw)\n",
    "\n",
    "for subgoal in env.states:\n",
    "    costs = [\n",
    "        search_fn(\n",
    "            EnvWithSubgoalsAndVisited(env, [subgoal, goal], action_search_fn, visited_in_state=False),\n",
    "            (start, frozenset()), lambda s: s[0]==goal)['cost']\n",
    "        for _ in range(50)\n",
    "        for start in env.states\n",
    "        for goal in env.states\n",
    "        #if start != goal # this changes numbers but not qualitative pattern\n",
    "    ]\n",
    "    print(subgoal, np.mean(costs))\n"
   ]
  },
  {
   "cell_type": "markdown",
   "metadata": {},
   "source": [
    "Summary...\n",
    "- Wrote suite of search functions with same signatures.\n",
    "- Wrote environment that samples cost in planning decision, can propagate states visited.\n",
    "- In what follows, I interchangeably refer to BFS & UCS. They are equivalent for problems where all actions have same cost. UCS is necessary at option-level\n",
    "\n",
    "- BFS with history finds subgoals for small graphs.\n",
    "    - DFS does too, even without history!\n",
    "- BFS without history prefers 134568 over 0279. Can replicate this in old code by adapting BFS approximation to avoid counting the (sub)goal (basically, terminate search on encountering goal without adding it to `visited`).\n",
    "- A mystery: estimating average cost works weirdly?\n",
    "\n",
    "- probabilistic model of BFS - analytic ??\n",
    "- schapiro graph???\n",
    "- think about MCTS or AO* LAO* in planner since we have a stochastic transition function\n",
    "- add option-level cost?\n",
    "\n",
    "- OED - optimize stimuli?\n",
    "    - can we find graphs with stark predictions?\n",
    "    - can we get something where our predictions differ from bottleneck model?"
   ]
  }
 ],
 "metadata": {
  "kernelspec": {
   "display_name": "Python 3",
   "language": "python",
   "name": "python3"
  },
  "language_info": {
   "codemirror_mode": {
    "name": "ipython",
    "version": 3
   },
   "file_extension": ".py",
   "mimetype": "text/x-python",
   "name": "python",
   "nbconvert_exporter": "python",
   "pygments_lexer": "ipython3",
   "version": "3.6.4"
  }
 },
 "nbformat": 4,
 "nbformat_minor": 2
}
