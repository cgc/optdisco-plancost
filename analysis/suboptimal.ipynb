{
 "cells": [
  {
   "cell_type": "markdown",
   "metadata": {},
   "source": [
    "# maybe the important thing here is to find things that are suboptimal, given some set of options?\n"
   ]
  },
  {
   "cell_type": "code",
   "execution_count": 12,
   "metadata": {},
   "outputs": [
    {
     "name": "stdout",
     "output_type": "stream",
     "text": [
      "The autoreload extension is already loaded. To reload it, use:\n",
      "  %reload_ext autoreload\n"
     ]
    }
   ],
   "source": [
    "from ipypb import track as tqdm\n",
    "import torch\n",
    "import matplotlib.pyplot as plt\n",
    "import numpy as np\n",
    "import itertools\n",
    "import numba\n",
    "import random\n",
    "import diffplan\n",
    "import astar\n",
    "import envs\n",
    "import prior_envs\n",
    "%load_ext autoreload\n",
    "%autoreload 2\n",
    "%matplotlib inline\n",
    "\n",
    "eps = torch.finfo().eps"
   ]
  },
  {
   "cell_type": "code",
   "execution_count": 6,
   "metadata": {},
   "outputs": [
    {
     "data": {
      "text/html": [
       "<div><span class=\"Text-label\" style=\"display:inline-block; overflow:hidden; white-space:nowrap; text-overflow:ellipsis; min-width:0; max-width:15ex; vertical-align:middle; text-align:right\"></span>\n",
       "<progress style=\"width:60ex\" max=\"54\" value=\"54\" class=\"Progress-main\"/></progress>\n",
       "<span class=\"Progress-label\"><strong>100%</strong></span>\n",
       "<span class=\"Iteration-label\">54/54</span>\n",
       "<span class=\"Time-label\">[00:12<00:00, 0.22s/it]</span></div>"
      ],
      "text/plain": [
       "\u001b[A\u001b[2K\r",
       " [████████████████████████████████████████████████████████████] 54/54 [00:12<00:00, 0.22s/it]"
      ]
     },
     "metadata": {},
     "output_type": "display_data"
    },
    {
     "name": "stdout",
     "output_type": "stream",
     "text": [
      "tensor(20.) tensor(18.) (6, 1) (13, 5) (6, 5)\n",
      "tensor(20.) tensor(18.) (6, 1) (14, 2) (6, 5)\n",
      "tensor(20.) tensor(18.) (6, 1) (14, 3) (6, 5)\n",
      "tensor(20.) tensor(18.) (6, 1) (14, 4) (6, 5)\n",
      "tensor(20.) tensor(18.) (6, 1) (14, 5) (6, 5)\n",
      "tensor(20.) tensor(18.) (7, 1) (13, 5) (5, 5)\n",
      "tensor(20.) tensor(18.) (7, 1) (14, 2) (5, 5)\n",
      "tensor(20.) tensor(18.) (7, 1) (14, 3) (5, 5)\n",
      "tensor(20.) tensor(18.) (7, 1) (14, 4) (5, 5)\n",
      "tensor(20.) tensor(18.) (7, 1) (14, 5) (5, 5)\n",
      "tensor(21.) tensor(19.) (7, 5) (13, 1) (5, 2)\n",
      "tensor(21.) tensor(19.) (7, 5) (14, 3) (5, 2)\n",
      "tensor(21.) tensor(19.) (7, 5) (14, 4) (5, 2)\n",
      "tensor(22.) tensor(20.) (7, 5) (13, 1) (5, 3)\n",
      "tensor(20.) tensor(18.) (8, 1) (13, 5) (4, 5)\n",
      "tensor(20.) tensor(18.) (8, 1) (14, 2) (4, 5)\n",
      "tensor(20.) tensor(18.) (8, 1) (14, 3) (4, 5)\n",
      "tensor(20.) tensor(18.) (8, 1) (14, 4) (4, 5)\n",
      "tensor(20.) tensor(18.) (8, 1) (14, 5) (4, 5)\n",
      "tensor(21.) tensor(19.) (8, 5) (13, 1) (4, 2)\n",
      "tensor(21.) tensor(19.) (8, 5) (14, 3) (4, 2)\n",
      "tensor(21.) tensor(19.) (8, 5) (14, 4) (4, 2)\n",
      "tensor(22.) tensor(20.) (8, 5) (13, 1) (4, 3)\n"
     ]
    }
   ],
   "source": [
    "env = diffplan.Grid('''\n",
    "x   x   xx\n",
    "x       xx\n",
    "x   x   xx\n",
    "x xxxxx xx\n",
    "x   x   xx\n",
    "x   x   xx\n",
    "xSxxxGxxxx\n",
    "x xxx xxxx\n",
    "x xxx xxxx\n",
    "x xxx xxxx\n",
    "x xxx xxxx\n",
    "x xxx xxxx\n",
    "x xxx xxxx\n",
    "x xxx xxxx\n",
    "x     xxxx\n",
    "''')\n",
    "\n",
    "heuristic_cost_estimate = astar.compute_manhattan_heuristic(env)\n",
    "D, a_cost = astar.compute_astar_matrix(env, heuristic_cost_estimate, tqdm=tqdm, samples=20)\n",
    "xx_cost = D + a_cost\n",
    "\n",
    "def find_suboptimal(env, xx_cost, D):\n",
    "    for s in env.states:\n",
    "        for g in env.states:\n",
    "            c = xx_cost[s, :] + xx_cost[:, g]\n",
    "            opts = np.where(c==c.min())[0]\n",
    "            # For all good options, is there any where the cost is not the optimal?\n",
    "            for o in opts:\n",
    "                if D[s, o] + D[o, g] > D[s, g]:\n",
    "                    print(D[s, o] + D[o, g], D[s, g], env.states_features[s], env.states_features[o], env.states_features[g])\n",
    "\n",
    "find_suboptimal(env, xx_cost, D)"
   ]
  },
  {
   "cell_type": "code",
   "execution_count": 16,
   "metadata": {},
   "outputs": [
    {
     "name": "stdout",
     "output_type": "stream",
     "text": [
      "27\n"
     ]
    },
    {
     "data": {
      "text/html": [
       "<div><span class=\"Text-label\" style=\"display:inline-block; overflow:hidden; white-space:nowrap; text-overflow:ellipsis; min-width:0; max-width:15ex; vertical-align:middle; text-align:right\"></span>\n",
       "<progress style=\"width:60ex\" max=\"27\" value=\"27\" class=\"Progress-main\"/></progress>\n",
       "<span class=\"Progress-label\"><strong>100%</strong></span>\n",
       "<span class=\"Iteration-label\">27/27</span>\n",
       "<span class=\"Time-label\">[00:17<00:01, 0.62s/it]</span></div>"
      ],
      "text/plain": [
       "\u001b[A\u001b[2K\r",
       " [████████████████████████████████████████████████████████████] 27/27 [00:17<00:01, 0.62s/it]"
      ]
     },
     "metadata": {},
     "output_type": "display_data"
    }
   ],
   "source": [
    "env = envs.Blocks(3, hanoi=True, canonicalize=False, height_limits=(3,3,3)) # 80s for 5, canonicalize=True\n",
    "print(len(env.states))\n",
    "\n",
    "%time D = diffplan.compute_distance_matrix(env)\n",
    "BFS = diffplan.compute_bfs_matrix(env, D)\n",
    "xx_cost = (D + BFS)\n",
    "\n",
    "#heuristic_cost_estimate = envs.compute_blocks_distance_heuristic(env)\n",
    "#D, a_cost = astar.compute_astar_matrix(env, heuristic_cost_estimate, tqdm=tqdm, samples=20)\n",
    "#xx_cost = D + a_cost\n",
    "\n",
    "find_suboptimal(env, xx_cost, D)\n"
   ]
  },
  {
   "cell_type": "markdown",
   "metadata": {},
   "source": [
    "# understanding xxx"
   ]
  },
  {
   "cell_type": "code",
   "execution_count": 702,
   "metadata": {},
   "outputs": [],
   "source": [
    "def op(\n",
    "    # should truly be a cost that we intend to minimize, as it is negated below.\n",
    "    env, terminations, search_cost, *,\n",
    "    # standard VI arguments\n",
    "    vi_eps=1e-5,\n",
    "    meta_beta=1.,\n",
    "    coef_entropy=0,\n",
    "):\n",
    "    #assert False\n",
    "    max_iter = len(env.states) * 5\n",
    "    num_options = terminations.shape[0]\n",
    "\n",
    "    goal_set = {env.states_to_idx[g] for g in env.goal_set}\n",
    "    eta = terminations.softmax(dim=1) # (options, states)\n",
    "\n",
    "    # Get meta-policy\n",
    "    V = torch.zeros(len(env.states))\n",
    "    for idx in range(max_iter):\n",
    "        prev = V\n",
    "        Q = torch.zeros((len(env.states), num_options))\n",
    "        for s in env.states:\n",
    "            if s in goal_set:\n",
    "                continue\n",
    "            Q[s] = eta@(V - search_cost[s])\n",
    "        #V = (meta_beta*Q).logsumexp(axis=1)/meta_beta\n",
    "        policy = (meta_beta*Q).softmax(dim=1)\n",
    "        entropy = 0\n",
    "        if coef_entropy != 0:\n",
    "            entropy = -(policy*(eps+policy).log()).sum(1)\n",
    "        V = (policy*Q).sum(1) + coef_entropy*entropy / meta_beta\n",
    "        if torch.norm(V-prev) < vi_eps:\n",
    "            break\n",
    "    J = -torch.mean(V[torch.tensor(env.start_states)])\n",
    "    #policy = (meta_beta*Q).softmax(dim=1)\n",
    "    return J, V, Q, policy, eta"
   ]
  },
  {
   "cell_type": "code",
   "execution_count": null,
   "metadata": {},
   "outputs": [],
   "source": [
    "env = envs.Blocks(3, hanoi=True, canonicalize=False)\n",
    "#%time D = diffplan.compute_distance_matrix(env)\n",
    "#BFS = diffplan.compute_bfs_matrix(env, D)\n",
    "h = envs.compute_blocks_distance_heuristic(env)\n",
    "a_star_distance, a_star_cost = astar.compute_astar_matrix(env, h, samples=100, tqdm=tqdm)"
   ]
  },
  {
   "cell_type": "code",
   "execution_count": 847,
   "metadata": {},
   "outputs": [
    {
     "name": "stdout",
     "output_type": "stream",
     "text": [
      "20 21\n",
      "20 tensor(0.2031) [(0.37, 4), (0.2, 20), (0.18, 10), (0.17, 3), (0.01, 19)]\n"
     ]
    },
    {
     "ename": "AssertionError",
     "evalue": "",
     "output_type": "error",
     "traceback": [
      "\u001b[0;31m---------------------------------------------------------------------------\u001b[0m",
      "\u001b[0;31mAssertionError\u001b[0m                            Traceback (most recent call last)",
      "\u001b[0;32m<ipython-input-847-940efe528f1e>\u001b[0m in \u001b[0;36m<module>\u001b[0;34m\u001b[0m\n\u001b[1;32m     46\u001b[0m \u001b[0mct\u001b[0m \u001b[0;34m=\u001b[0m \u001b[0;36m0\u001b[0m\u001b[0;34m\u001b[0m\u001b[0m\n\u001b[1;32m     47\u001b[0m \u001b[0;32mwhile\u001b[0m \u001b[0mx\u001b[0m \u001b[0;34m!=\u001b[0m \u001b[0mg\u001b[0m\u001b[0;34m:\u001b[0m\u001b[0;34m\u001b[0m\u001b[0m\n\u001b[0;32m---> 48\u001b[0;31m     \u001b[0mx\u001b[0m \u001b[0;34m=\u001b[0m \u001b[0mt\u001b[0m\u001b[0;34m(\u001b[0m\u001b[0mx\u001b[0m\u001b[0;34m)\u001b[0m\u001b[0;34m\u001b[0m\u001b[0m\n\u001b[0m\u001b[1;32m     49\u001b[0m     \u001b[0mct\u001b[0m \u001b[0;34m+=\u001b[0m \u001b[0;36m1\u001b[0m\u001b[0;34m\u001b[0m\u001b[0m\n\u001b[1;32m     50\u001b[0m     \u001b[0;32mif\u001b[0m \u001b[0mct\u001b[0m \u001b[0;34m>\u001b[0m \u001b[0;36m10\u001b[0m\u001b[0;34m:\u001b[0m\u001b[0;34m\u001b[0m\u001b[0m\n",
      "\u001b[0;32m<ipython-input-847-940efe528f1e>\u001b[0m in \u001b[0;36mt\u001b[0;34m(s)\u001b[0m\n\u001b[1;32m     40\u001b[0m     \u001b[0;32mif\u001b[0m \u001b[0maidx\u001b[0m \u001b[0;34m==\u001b[0m \u001b[0;34m-\u001b[0m\u001b[0;36m1\u001b[0m\u001b[0;34m:\u001b[0m \u001b[0;32mreturn\u001b[0m \u001b[0mg\u001b[0m\u001b[0;34m\u001b[0m\u001b[0m\n\u001b[1;32m     41\u001b[0m     \u001b[0mprint\u001b[0m\u001b[0;34m(\u001b[0m\u001b[0moption_set\u001b[0m\u001b[0;34m[\u001b[0m\u001b[0maidx\u001b[0m\u001b[0;34m]\u001b[0m\u001b[0;34m,\u001b[0m \u001b[0mpolicy\u001b[0m\u001b[0;34m[\u001b[0m\u001b[0ms\u001b[0m\u001b[0;34m,\u001b[0m \u001b[0maidx\u001b[0m\u001b[0;34m]\u001b[0m\u001b[0;34m,\u001b[0m \u001b[0msorted\u001b[0m\u001b[0;34m(\u001b[0m\u001b[0;34m[\u001b[0m\u001b[0;34m(\u001b[0m\u001b[0mround\u001b[0m\u001b[0;34m(\u001b[0m\u001b[0mp\u001b[0m\u001b[0;34m,\u001b[0m \u001b[0;36m2\u001b[0m\u001b[0;34m)\u001b[0m\u001b[0;34m,\u001b[0m \u001b[0mo\u001b[0m\u001b[0;34m)\u001b[0m \u001b[0;32mfor\u001b[0m \u001b[0mo\u001b[0m\u001b[0;34m,\u001b[0m \u001b[0mp\u001b[0m \u001b[0;32min\u001b[0m \u001b[0mzip\u001b[0m\u001b[0;34m(\u001b[0m\u001b[0moption_set\u001b[0m\u001b[0;34m,\u001b[0m \u001b[0mpolicy\u001b[0m\u001b[0;34m[\u001b[0m\u001b[0ms\u001b[0m\u001b[0;34m]\u001b[0m\u001b[0;34m.\u001b[0m\u001b[0mnumpy\u001b[0m\u001b[0;34m(\u001b[0m\u001b[0;34m)\u001b[0m\u001b[0;34m)\u001b[0m \u001b[0;32mif\u001b[0m \u001b[0mp\u001b[0m \u001b[0;34m>\u001b[0m \u001b[0;36m1e-3\u001b[0m\u001b[0;34m]\u001b[0m\u001b[0;34m)\u001b[0m\u001b[0;34m[\u001b[0m\u001b[0;34m:\u001b[0m\u001b[0;34m:\u001b[0m\u001b[0;34m-\u001b[0m\u001b[0;36m1\u001b[0m\u001b[0;34m]\u001b[0m\u001b[0;34m)\u001b[0m\u001b[0;34m\u001b[0m\u001b[0m\n\u001b[0;32m---> 42\u001b[0;31m     \u001b[0;32massert\u001b[0m \u001b[0moption_set\u001b[0m\u001b[0;34m[\u001b[0m\u001b[0maidx\u001b[0m\u001b[0;34m]\u001b[0m \u001b[0;34m!=\u001b[0m \u001b[0ms\u001b[0m\u001b[0;34m\u001b[0m\u001b[0m\n\u001b[0m\u001b[1;32m     43\u001b[0m     \u001b[0;32mreturn\u001b[0m \u001b[0moption_set\u001b[0m\u001b[0;34m[\u001b[0m\u001b[0maidx\u001b[0m\u001b[0;34m]\u001b[0m\u001b[0;34m\u001b[0m\u001b[0m\n\u001b[1;32m     44\u001b[0m \u001b[0;34m\u001b[0m\u001b[0m\n",
      "\u001b[0;31mAssertionError\u001b[0m: "
     ]
    }
   ],
   "source": [
    "search_cost = (a_star_distance + a_star_cost).float()\n",
    "#search_cost = (D + .5*BFS) + 1 # 23 -> 3 -> goal\n",
    "#search_cost = (D + .9*BFS) + 2 # 4 -> goal\n",
    "#search_cost = (D + BFS)\n",
    "\n",
    "#os = option_set = [3, 4, 10, 19, 20, 23]\n",
    "#os = option_set = [20, 4, 23, 3, 10, 19]\n",
    "os = option_set = [23, 3, 20, 4, 10, 19]\n",
    "#os = option_set = [3, 4, 20]\n",
    "\n",
    "s = env.states_to_idx[(('B', 'A'),(),('C',))]\n",
    "g = env.states_to_idx[(('C', 'A'),(),('B',))] # from the paper!\n",
    "\n",
    "env.goal_set = {env.states_features[g]}\n",
    "env.start_states = env.states\n",
    "\n",
    "'''\n",
    "terms = torch.zeros((1+len(os), len(env.states)))\n",
    "for o, oval in enumerate(os):\n",
    "    terms[o, oval] = 100.\n",
    "terms[len(os), g] = 100.\n",
    "'''\n",
    "terms = torch.zeros((1+len(os), len(env.states)))\n",
    "terms[0, g] = 100.\n",
    "for o, oval in enumerate(os):\n",
    "    terms[o+1, oval] = 100.\n",
    "\n",
    "r = diffplan.option_planner_bfs_vec(env, terms, search_cost)\n",
    "#r = op(env, terms, search_cost)\n",
    "#r = op(env, terms, search_cost)\n",
    "\n",
    "#J, V, Q, policy, eta\n",
    "policy = r[3]\n",
    "\n",
    "\n",
    "# now seeing what's in the policy...\n",
    "print(s, g)\n",
    "def t(s):\n",
    "    aidx = np.argmax(policy[s]) - 1\n",
    "    if aidx == -1: return g\n",
    "    print(option_set[aidx], policy[s, aidx], sorted([(round(p, 2), o) for o, p in zip(option_set, policy[s].numpy()) if p > 1e-3])[::-1])\n",
    "    assert option_set[aidx] != s\n",
    "    return option_set[aidx]\n",
    "\n",
    "x = s\n",
    "ct = 0\n",
    "while x != g:\n",
    "    x = t(x)\n",
    "    ct += 1\n",
    "    if ct > 10:\n",
    "        break"
   ]
  },
  {
   "cell_type": "code",
   "execution_count": 849,
   "metadata": {},
   "outputs": [
    {
     "name": "stdout",
     "output_type": "stream",
     "text": [
      "20\n",
      "20\n",
      "20\n"
     ]
    },
    {
     "data": {
      "image/png": "[encoded data removed]",
      "text/plain": [
       "<Figure size 288x288 with 1 Axes>"
      ]
     },
     "metadata": {
      "needs_background": "light"
     },
     "output_type": "display_data"
    },
    {
     "data": {
      "image/png": "[encoded data removed]",
      "text/plain": [
       "<Figure size 288x288 with 1 Axes>"
      ]
     },
     "metadata": {
      "needs_background": "light"
     },
     "output_type": "display_data"
    },
    {
     "data": {
      "image/png": "[encoded data removed]",
      "text/plain": [
       "<Figure size 288x288 with 1 Axes>"
      ]
     },
     "metadata": {
      "needs_background": "light"
     },
     "output_type": "display_data"
    }
   ],
   "source": [
    "def do_grouping(gridp_full):\n",
    "    i = {n: idx+1 for idx, n in enumerate(option_set)}\n",
    "    newthing = np.zeros((gridp_full.shape[0], gridp_full.shape[1], gridp_full.shape[2]-2))\n",
    "\n",
    "    assert set(option_set[:4]) == {3,4,20,23}, 'hack hack hack'\n",
    "    newthing[:, :, 0] = gridp_full[:, :, 0]\n",
    "    newthing[:, :, i[20]] = gridp_full[:, :, i[20]]\n",
    "    newthing[:, :, i[4]] = gridp_full[:, :, i[4]] + gridp_full[:, :, i[19]]\n",
    "    newthing[:, :, i[23]] = gridp_full[:, :, i[23]] + gridp_full[:, :, i[3]] + gridp_full[:, :, i[10]]\n",
    "\n",
    "    return newthing\n",
    "\n",
    "def render_grid(wBFSs, wdelibs, *, cost_scaling=1., beta=1., coef_entropy=0., vec=True, ax=None, group=False, showmax=True):\n",
    "    results = {}\n",
    "    #grid = np.zeros((len(wBFSs), len(wdelibs)))\n",
    "    #gridp = np.full((len(wBFSs), len(wdelibs), len(option_set)+1), np.nan)\n",
    "    gridp_full = np.full((len(wBFSs), len(wdelibs), len(option_set)+1), np.nan)\n",
    "    Qs = np.full((len(wBFSs), len(wdelibs), len(option_set)+1), np.nan)\n",
    "    for wBFSidx, wBFS in enumerate(wBFSs):\n",
    "        for wdelibidx, wdelib in enumerate(wdelibs):\n",
    "            dist = D\n",
    "            plancost = BFS\n",
    "            dist = a_star_distance\n",
    "            plancost = a_star_cost\n",
    "            search_cost = ((dist + wBFS*plancost) + wdelib)*cost_scaling\n",
    "            if vec:\n",
    "                r = diffplan.option_planner_bfs_vec(env, terms, search_cost, meta_beta=beta)\n",
    "            else:\n",
    "                r = op(env, terms, search_cost, meta_beta=beta, coef_entropy=coef_entropy)\n",
    "            policy = r[3]\n",
    "            results[(wBFS, wdelib)] = policy[s]\n",
    "            best = np.argmax(policy[s])\n",
    "            #grid[wBFSidx, wdelibidx] = best\n",
    "            gridp_full[wBFSidx, wdelibidx] = policy[s]\n",
    "\n",
    "            Q = r[2]\n",
    "            Qs[wBFSidx, wdelibidx] = Q[s]\n",
    "    if group:\n",
    "        gridp_full = do_grouping(gridp_full)\n",
    "    plot_grid(wBFSs, wdelibs, gridp_full, ax=ax, showmax=showmax)\n",
    "    return gridp, gridp_full, Qs, wBFSs, wdelibs\n",
    "\n",
    "def plot_grid(wBFSs, wdelibs, gridp_full, cmap='Set1', ax=None, showmax=True):\n",
    "    n_opts = gridp_full.shape[-1]\n",
    "    gridp = np.full((len(wBFSs), len(wdelibs), n_opts), np.nan)\n",
    "    for wBFSidx, wBFS in enumerate(wBFSs):\n",
    "        for wdelibidx, wdelib in enumerate(wdelibs):\n",
    "            policy = gridp_full[wBFSidx, wdelibidx]\n",
    "            best = np.argmax(policy)\n",
    "            gridp[wBFSidx, wdelibidx, best] = policy[best]\n",
    "\n",
    "    im = gridp if showmax else gridp_full\n",
    "\n",
    "    if ax is None:\n",
    "        _, ax = plt.subplots(figsize=(4, 4))\n",
    "    plt.sca(ax)\n",
    "    cm = plt.get_cmap(cmap)\n",
    "    #plt.imshow(grid.T, extent=[wBFSs.min(), wBFSs.max(), wdelibs.min(), wdelibs.max()])\n",
    "    for idx in range(n_opts):\n",
    "        plt.imshow(\n",
    "            im[:, ::-1, idx].T,\n",
    "            cmap=diffplan.new_opacity_cmap(cm(idx)),\n",
    "            extent=[wBFSs.min(), wBFSs.max(), wdelibs.min(), wdelibs.max()],\n",
    "            vmin=0, vmax=1)\n",
    "    plt.xlabel('BFS weight')\n",
    "    plt.ylabel('Delib weight')\n",
    "    plt.axis('equal')\n",
    "\n",
    "    print(s)\n",
    "    osxx = [g]+option_set\n",
    "    nan_opt = np.all(np.isnan(gridp), axis=(0, 1))\n",
    "    assert nan_opt.shape == (n_opts,)\n",
    "    legend_elements = [\n",
    "        plt.Line2D([0], [0], marker='o',\n",
    "                   markeredgecolor=cm(idx),\n",
    "                   markerfacecolor=cm(idx),\n",
    "                   c=(0, 0, 0, 0),\n",
    "                   label=str(osxx[idx]))\n",
    "        for idx in range(n_opts)\n",
    "        if not nan_opt[idx]\n",
    "    ]\n",
    "    plt.legend(handles=legend_elements)\n",
    "\n",
    "#wBFSs = np.arange(0, 2., 0.2)\n",
    "#wdelibs = np.arange(0, 4, 0.2)\n",
    "wBFSs = np.arange(0, 8., 0.5)\n",
    "wdelibs = np.arange(0, 8, 0.5)\n",
    "#wBFSs = np.arange(0, 5., 0.3)\n",
    "#wdelibs = np.arange(0, 5., 0.3)\n",
    "\n",
    "d=render_grid(np.arange(0, 5., 0.5), np.arange(0, 5, 0.5), vec=True)\n",
    "d=render_grid(np.arange(0, 5., 0.5), np.arange(0, 5, 0.5), vec=True, group=True)\n",
    "d=render_grid(np.arange(0, 5., 0.5), np.arange(0, 5, 0.5), vec=True, showmax=False)"
   ]
  },
  {
   "cell_type": "code",
   "execution_count": 850,
   "metadata": {},
   "outputs": [
    {
     "name": "stdout",
     "output_type": "stream",
     "text": [
      "20\n"
     ]
    },
    {
     "data": {
      "image/png": "[encoded data removed]",
      "text/plain": [
       "<Figure size 288x288 with 1 Axes>"
      ]
     },
     "metadata": {
      "needs_background": "light"
     },
     "output_type": "display_data"
    }
   ],
   "source": [
    "d=render_grid(np.arange(0, 4., 0.2), np.arange(0, 4, 0.2), vec=True, group=True)"
   ]
  },
  {
   "cell_type": "code",
   "execution_count": 818,
   "metadata": {},
   "outputs": [
    {
     "name": "stdout",
     "output_type": "stream",
     "text": [
      "20\n",
      "20\n",
      "20\n"
     ]
    },
    {
     "data": {
      "image/png": "[encoded data removed]",
      "text/plain": [
       "<Figure size 288x288 with 1 Axes>"
      ]
     },
     "metadata": {
      "needs_background": "light"
     },
     "output_type": "display_data"
    },
    {
     "data": {
      "image/png": "[encoded data removed]",
      "text/plain": [
       "<Figure size 288x288 with 1 Axes>"
      ]
     },
     "metadata": {
      "needs_background": "light"
     },
     "output_type": "display_data"
    },
    {
     "data": {
      "image/png": "[encoded data removed]",
      "text/plain": [
       "<Figure size 288x288 with 1 Axes>"
      ]
     },
     "metadata": {
      "needs_background": "light"
     },
     "output_type": "display_data"
    }
   ],
   "source": [
    "d=render_grid(wBFSs, wdelibs, vec=True)\n",
    "d=render_grid(wBFSs, wdelibs, vec=False, coef_entropy=1.)\n",
    "d=render_grid(wBFSs, wdelibs, vec=False)"
   ]
  },
  {
   "cell_type": "code",
   "execution_count": 812,
   "metadata": {},
   "outputs": [
    {
     "name": "stdout",
     "output_type": "stream",
     "text": [
      "20\n",
      "20\n"
     ]
    },
    {
     "data": {
      "image/png": "[encoded data removed]",
      "text/plain": [
       "<Figure size 288x288 with 1 Axes>"
      ]
     },
     "metadata": {
      "needs_background": "light"
     },
     "output_type": "display_data"
    },
    {
     "data": {
      "image/png": "[encoded data removed]",
      "text/plain": [
       "<Figure size 288x288 with 1 Axes>"
      ]
     },
     "metadata": {
      "needs_background": "light"
     },
     "output_type": "display_data"
    }
   ],
   "source": [
    "d=render_grid(wBFSs, wdelibs, vec=True)\n",
    "d=render_grid(wBFSs, wdelibs, vec=True, group=True)"
   ]
  },
  {
   "cell_type": "code",
   "execution_count": 835,
   "metadata": {},
   "outputs": [
    {
     "name": "stdout",
     "output_type": "stream",
     "text": [
      "20\n"
     ]
    },
    {
     "data": {
      "image/png": "[encoded data removed]",
      "text/plain": [
       "<Figure size 792x216 with 3 Axes>"
      ]
     },
     "metadata": {
      "needs_background": "light"
     },
     "output_type": "display_data"
    }
   ],
   "source": [
    "# Trying to see how beta changes this & differs for different ones...\n",
    "\n",
    "def _show(axs, d):\n",
    "    _, gridp_full, Qs, _, _ = d\n",
    "    idx = 6\n",
    "    axs[0].axvline(wBFSs[idx], lw=1, c='k')\n",
    "    cm = plt.get_cmap('Set1')\n",
    "    for i in range(gridp_full.shape[-1]):\n",
    "        axs[1].plot(gridp_full[idx][:, i], c=cm(i))\n",
    "        axs[2].plot(Qs[idx][:, i], c=cm(i))\n",
    "    axs[0].set(title='First action')\n",
    "    axs[1].set(title='Policy')\n",
    "    axs[2].set(title='Q-values')\n",
    "\n",
    "for vec in [True]:#[True, False]:\n",
    "    for beta in [1]:#[0.5, 1, 5]:\n",
    "        f, axs = plt.subplots(1, 3, figsize=(11, 3))\n",
    "        d=render_grid(wBFSs, wdelibs, ax=axs[0], vec=vec, beta=beta, group=group)\n",
    "        _show(axs, d)\n"
   ]
  },
  {
   "cell_type": "code",
   "execution_count": 815,
   "metadata": {},
   "outputs": [
    {
     "name": "stdout",
     "output_type": "stream",
     "text": [
      "20\n",
      "20\n",
      "20\n"
     ]
    },
    {
     "data": {
      "image/png": "[encoded data removed]",
      "text/plain": [
       "<Figure size 288x288 with 1 Axes>"
      ]
     },
     "metadata": {
      "needs_background": "light"
     },
     "output_type": "display_data"
    },
    {
     "data": {
      "image/png": "[encoded data removed]",
      "text/plain": [
       "<Figure size 288x288 with 1 Axes>"
      ]
     },
     "metadata": {
      "needs_background": "light"
     },
     "output_type": "display_data"
    },
    {
     "data": {
      "image/png": "[encoded data removed]",
      "text/plain": [
       "<Figure size 288x288 with 1 Axes>"
      ]
     },
     "metadata": {
      "needs_background": "light"
     },
     "output_type": "display_data"
    }
   ],
   "source": [
    "n = 3\n",
    "d=render_grid(wBFSs, wdelibs, vec=True, cost_scaling=1/n, beta=n)\n",
    "d=render_grid(wBFSs, wdelibs, vec=True, cost_scaling=n)\n",
    "d=render_grid(wBFSs, wdelibs, vec=True, beta=n)"
   ]
  },
  {
   "cell_type": "code",
   "execution_count": null,
   "metadata": {},
   "outputs": [],
   "source": []
  },
  {
   "cell_type": "code",
   "execution_count": null,
   "metadata": {},
   "outputs": [],
   "source": []
  },
  {
   "cell_type": "code",
   "execution_count": 412,
   "metadata": {},
   "outputs": [
    {
     "data": {
      "image/svg+xml": [
       "<?xml version=\"1.0\" encoding=\"UTF-8\" standalone=\"no\"?>\n",
       "<!DOCTYPE svg PUBLIC \"-//W3C//DTD SVG 1.1//EN\"\n",
       " \"http://www.w3.org/Graphics/SVG/1.1/DTD/svg11.dtd\">\n",
       "<!-- Generated by graphviz version 2.40.1 (20161225.0304)\n",
       " -->\n",
       "<!-- Title: %3 Pages: 1 -->\n",
       "<svg width=\"551pt\" height=\"554pt\"\n",
       " viewBox=\"0.00 0.00 551.09 553.67\" xmlns=\"http://www.w3.org/2000/svg\" xmlns:xlink=\"http://www.w3.org/1999/xlink\">\n",
       "<g id=\"graph0\" class=\"graph\" transform=\"scale(1 1) rotate(0) translate(4 549.6706)\">\n",
       "<title>%3</title>\n",
       "<polygon fill=\"#ffffff\" stroke=\"transparent\" points=\"-4,4 -4,-549.6706 547.0863,-549.6706 547.0863,4 -4,4\"/>\n",
       "<!-- 0 -->\n",
       "<g id=\"node1\" class=\"node\">\n",
       "<title>0</title>\n",
       "<polygon fill=\"#008800\" stroke=\"#008800\" points=\"123.3189,-17 81.3189,-17 81.3189,0 123.3189,0 123.3189,-17\"/>\n",
       "<text text-anchor=\"middle\" x=\"102.3189\" y=\"-6.6\" font-family=\"Times,serif\" font-size=\"8.00\" fill=\"#000000\">0,||CBA</text>\n",
       "</g>\n",
       "<!-- 8 -->\n",
       "<g id=\"node2\" class=\"node\">\n",
       "<title>8</title>\n",
       "<polygon fill=\"#008800\" stroke=\"#008800\" points=\"184.5275,-52.6389 142.5275,-52.6389 142.5275,-35.6389 184.5275,-35.6389 184.5275,-52.6389\"/>\n",
       "<text text-anchor=\"middle\" x=\"163.5275\" y=\"-42.2389\" font-family=\"Times,serif\" font-size=\"8.00\" fill=\"#000000\">8,A||CB</text>\n",
       "</g>\n",
       "<!-- 0&#45;&#45;8 -->\n",
       "<g id=\"edge1\" class=\"edge\">\n",
       "<title>0&#45;&#45;8</title>\n",
       "<path fill=\"none\" stroke=\"#000000\" d=\"M117.1358,-17.1272C126.7593,-22.7305 139.2508,-30.0037 148.847,-35.5912\"/>\n",
       "</g>\n",
       "<!-- 1 -->\n",
       "<g id=\"node3\" class=\"node\">\n",
       "<title>1</title>\n",
       "<polygon fill=\"#008800\" stroke=\"#008800\" points=\"102.9034,-84.8179 60.9034,-84.8179 60.9034,-67.8179 102.9034,-67.8179 102.9034,-84.8179\"/>\n",
       "<text text-anchor=\"middle\" x=\"81.9034\" y=\"-74.4179\" font-family=\"Times,serif\" font-size=\"8.00\" fill=\"#000000\">1,|A|CB</text>\n",
       "</g>\n",
       "<!-- 0&#45;&#45;1 -->\n",
       "<g id=\"edge2\" class=\"edge\">\n",
       "<title>0&#45;&#45;1</title>\n",
       "<path fill=\"none\" stroke=\"#000000\" d=\"M99.7332,-17.0892C95.8277,-30.063 88.4636,-54.5258 84.5325,-67.5842\"/>\n",
       "</g>\n",
       "<!-- 11 -->\n",
       "<g id=\"node7\" class=\"node\">\n",
       "<title>11</title>\n",
       "<polygon fill=\"#008800\" stroke=\"#008800\" points=\"256.9792,-92.9038 210.9792,-92.9038 210.9792,-75.9038 256.9792,-75.9038 256.9792,-92.9038\"/>\n",
       "<text text-anchor=\"middle\" x=\"233.9792\" y=\"-82.5038\" font-family=\"Times,serif\" font-size=\"8.00\" fill=\"#000000\">11,A|B|C</text>\n",
       "</g>\n",
       "<!-- 8&#45;&#45;11 -->\n",
       "<g id=\"edge19\" class=\"edge\">\n",
       "<title>8&#45;&#45;11</title>\n",
       "<path fill=\"none\" stroke=\"#000000\" d=\"M178.4685,-52.6781C190.4244,-59.5112 207.1095,-69.0471 219.0597,-75.877\"/>\n",
       "</g>\n",
       "<!-- 1&#45;&#45;8 -->\n",
       "<g id=\"edge3\" class=\"edge\">\n",
       "<title>1&#45;&#45;8</title>\n",
       "<path fill=\"none\" stroke=\"#000000\" d=\"M102.9236,-68.031C115.0159,-63.2638 130.1669,-57.2908 142.2948,-52.5096\"/>\n",
       "</g>\n",
       "<!-- 13 -->\n",
       "<g id=\"node4\" class=\"node\">\n",
       "<title>13</title>\n",
       "<polygon fill=\"#008800\" stroke=\"#008800\" points=\"80.8452,-162.3173 34.8452,-162.3173 34.8452,-145.3173 80.8452,-145.3173 80.8452,-162.3173\"/>\n",
       "<text text-anchor=\"middle\" x=\"57.8452\" y=\"-151.9173\" font-family=\"Times,serif\" font-size=\"8.00\" fill=\"#000000\">13,B|A|C</text>\n",
       "</g>\n",
       "<!-- 1&#45;&#45;13 -->\n",
       "<g id=\"edge4\" class=\"edge\">\n",
       "<title>1&#45;&#45;13</title>\n",
       "<path fill=\"none\" stroke=\"#000000\" d=\"M79.2368,-84.9078C74.6368,-99.726 65.2564,-129.9433 60.5977,-144.9508\"/>\n",
       "</g>\n",
       "<!-- 20 -->\n",
       "<g id=\"node19\" class=\"node\">\n",
       "<title>20</title>\n",
       "<polygon fill=\"#008800\" stroke=\"#008800\" points=\"84.4845,-238.9366 38.4845,-238.9366 38.4845,-221.9366 84.4845,-221.9366 84.4845,-238.9366\"/>\n",
       "<text text-anchor=\"middle\" x=\"61.4845\" y=\"-228.5366\" font-family=\"Times,serif\" font-size=\"8.00\" fill=\"#000000\">20,BA||C</text>\n",
       "</g>\n",
       "<!-- 13&#45;&#45;20 -->\n",
       "<g id=\"edge25\" class=\"edge\">\n",
       "<title>13&#45;&#45;20</title>\n",
       "<path fill=\"none\" stroke=\"#000000\" d=\"M58.2627,-162.6065C58.9647,-177.3861 60.3732,-207.0394 61.0719,-221.7499\"/>\n",
       "</g>\n",
       "<!-- 2 -->\n",
       "<g id=\"node5\" class=\"node\">\n",
       "<title>2</title>\n",
       "<polygon fill=\"#008800\" stroke=\"#008800\" points=\"226.2426,-161.4304 184.2426,-161.4304 184.2426,-144.4304 226.2426,-144.4304 226.2426,-161.4304\"/>\n",
       "<text text-anchor=\"middle\" x=\"205.2426\" y=\"-151.0304\" font-family=\"Times,serif\" font-size=\"8.00\" fill=\"#000000\">2,|B|CA</text>\n",
       "</g>\n",
       "<!-- 9 -->\n",
       "<g id=\"node6\" class=\"node\">\n",
       "<title>9</title>\n",
       "<polygon fill=\"#008800\" stroke=\"#008800\" points=\"146.5987,-192.826 104.5987,-192.826 104.5987,-175.826 146.5987,-175.826 146.5987,-192.826\"/>\n",
       "<text text-anchor=\"middle\" x=\"125.5987\" y=\"-182.426\" font-family=\"Times,serif\" font-size=\"8.00\" fill=\"#000000\">9,B||CA</text>\n",
       "</g>\n",
       "<!-- 2&#45;&#45;9 -->\n",
       "<g id=\"edge5\" class=\"edge\">\n",
       "<title>2&#45;&#45;9</title>\n",
       "<path fill=\"none\" stroke=\"#000000\" d=\"M183.8995,-161.3438C172.3802,-165.8847 158.2103,-171.4705 146.7246,-175.9982\"/>\n",
       "</g>\n",
       "<!-- 2&#45;&#45;11 -->\n",
       "<g id=\"edge6\" class=\"edge\">\n",
       "<title>2&#45;&#45;11</title>\n",
       "<path fill=\"none\" stroke=\"#000000\" d=\"M208.8821,-144.2514C214.3795,-131.1421 224.7452,-106.4237 230.2785,-93.2287\"/>\n",
       "</g>\n",
       "<!-- 4 -->\n",
       "<g id=\"node8\" class=\"node\">\n",
       "<title>4</title>\n",
       "<polygon fill=\"#008800\" stroke=\"#008800\" points=\"304.578,-151.4119 262.578,-151.4119 262.578,-134.4119 304.578,-134.4119 304.578,-151.4119\"/>\n",
       "<text text-anchor=\"middle\" x=\"283.578\" y=\"-141.0119\" font-family=\"Times,serif\" font-size=\"8.00\" fill=\"#000000\">4,|BA|C</text>\n",
       "</g>\n",
       "<!-- 2&#45;&#45;4 -->\n",
       "<g id=\"edge7\" class=\"edge\">\n",
       "<title>2&#45;&#45;4</title>\n",
       "<path fill=\"none\" stroke=\"#000000\" d=\"M226.6481,-150.1928C237.7919,-148.7676 251.3695,-147.0311 262.4696,-145.6115\"/>\n",
       "</g>\n",
       "<!-- 9&#45;&#45;13 -->\n",
       "<g id=\"edge21\" class=\"edge\">\n",
       "<title>9&#45;&#45;13</title>\n",
       "<path fill=\"none\" stroke=\"#000000\" d=\"M106.3645,-175.6651C97.1315,-171.5075 86.1016,-166.5409 76.893,-162.3943\"/>\n",
       "</g>\n",
       "<!-- 9&#45;&#45;20 -->\n",
       "<g id=\"edge20\" class=\"edge\">\n",
       "<title>9&#45;&#45;20</title>\n",
       "<path fill=\"none\" stroke=\"#000000\" d=\"M113.5393,-192.9991C102.0767,-201.2429 84.9345,-213.5715 73.4898,-221.8024\"/>\n",
       "</g>\n",
       "<!-- 4&#45;&#45;11 -->\n",
       "<g id=\"edge11\" class=\"edge\">\n",
       "<title>4&#45;&#45;11</title>\n",
       "<path fill=\"none\" stroke=\"#000000\" d=\"M276.2595,-134.2788C266.882,-123.2169 250.7196,-104.1513 241.3277,-93.0723\"/>\n",
       "</g>\n",
       "<!-- 19 -->\n",
       "<g id=\"node13\" class=\"node\">\n",
       "<title>19</title>\n",
       "<polygon fill=\"#008800\" stroke=\"#008800\" points=\"371.8449,-202.5196 325.8449,-202.5196 325.8449,-185.5196 371.8449,-185.5196 371.8449,-202.5196\"/>\n",
       "<text text-anchor=\"middle\" x=\"348.8449\" y=\"-192.1196\" font-family=\"Times,serif\" font-size=\"8.00\" fill=\"#000000\">19,C|BA|</text>\n",
       "</g>\n",
       "<!-- 4&#45;&#45;19 -->\n",
       "<g id=\"edge12\" class=\"edge\">\n",
       "<title>4&#45;&#45;19</title>\n",
       "<path fill=\"none\" stroke=\"#000000\" d=\"M294.6496,-151.5816C306.7241,-161.0367 325.9271,-176.0736 337.9368,-185.4779\"/>\n",
       "</g>\n",
       "<!-- 3 -->\n",
       "<g id=\"node9\" class=\"node\">\n",
       "<title>3</title>\n",
       "<polygon fill=\"#008800\" stroke=\"#008800\" points=\"256.8372,-468.4125 214.8372,-468.4125 214.8372,-451.4125 256.8372,-451.4125 256.8372,-468.4125\"/>\n",
       "<text text-anchor=\"middle\" x=\"235.8372\" y=\"-458.0125\" font-family=\"Times,serif\" font-size=\"8.00\" fill=\"#000000\">3,|C|BA</text>\n",
       "</g>\n",
       "<!-- 10 -->\n",
       "<g id=\"node10\" class=\"node\">\n",
       "<title>10</title>\n",
       "<polygon fill=\"#008800\" stroke=\"#008800\" points=\"335.7556,-438.0982 289.7556,-438.0982 289.7556,-421.0982 335.7556,-421.0982 335.7556,-438.0982\"/>\n",
       "<text text-anchor=\"middle\" x=\"312.7556\" y=\"-427.6982\" font-family=\"Times,serif\" font-size=\"8.00\" fill=\"#000000\">10,C||BA</text>\n",
       "</g>\n",
       "<!-- 3&#45;&#45;10 -->\n",
       "<g id=\"edge8\" class=\"edge\">\n",
       "<title>3&#45;&#45;10</title>\n",
       "<path fill=\"none\" stroke=\"#000000\" d=\"M256.8555,-451.629C267.4419,-447.4568 280.2651,-442.403 290.9582,-438.1888\"/>\n",
       "</g>\n",
       "<!-- 12 -->\n",
       "<g id=\"node11\" class=\"node\">\n",
       "<title>12</title>\n",
       "<polygon fill=\"#008800\" stroke=\"#008800\" points=\"194.8521,-510.4178 148.8521,-510.4178 148.8521,-493.4178 194.8521,-493.4178 194.8521,-510.4178\"/>\n",
       "<text text-anchor=\"middle\" x=\"171.8521\" y=\"-500.0178\" font-family=\"Times,serif\" font-size=\"8.00\" fill=\"#000000\">12,A|C|B</text>\n",
       "</g>\n",
       "<!-- 3&#45;&#45;12 -->\n",
       "<g id=\"edge9\" class=\"edge\">\n",
       "<title>3&#45;&#45;12</title>\n",
       "<path fill=\"none\" stroke=\"#000000\" d=\"M222.8888,-468.4129C211.9338,-475.6048 196.2946,-485.8717 185.2216,-493.1409\"/>\n",
       "</g>\n",
       "<!-- 5 -->\n",
       "<g id=\"node12\" class=\"node\">\n",
       "<title>5</title>\n",
       "<polygon fill=\"#008800\" stroke=\"#008800\" points=\"184.6545,-436.4698 142.6545,-436.4698 142.6545,-419.4698 184.6545,-419.4698 184.6545,-436.4698\"/>\n",
       "<text text-anchor=\"middle\" x=\"163.6545\" y=\"-426.0698\" font-family=\"Times,serif\" font-size=\"8.00\" fill=\"#000000\">5,|CA|B</text>\n",
       "</g>\n",
       "<!-- 3&#45;&#45;5 -->\n",
       "<g id=\"edge10\" class=\"edge\">\n",
       "<title>3&#45;&#45;5</title>\n",
       "<path fill=\"none\" stroke=\"#000000\" d=\"M216.4935,-451.3525C206.1369,-446.7694 193.4162,-441.1401 183.0515,-436.5535\"/>\n",
       "</g>\n",
       "<!-- 21 -->\n",
       "<g id=\"node20\" class=\"node\">\n",
       "<title>21</title>\n",
       "<polygon fill=\"#880000\" stroke=\"#880000\" points=\"366.7606,-365.5287 320.7606,-365.5287 320.7606,-348.5287 366.7606,-348.5287 366.7606,-365.5287\"/>\n",
       "<text text-anchor=\"middle\" x=\"343.7606\" y=\"-355.1287\" font-family=\"Times,serif\" font-size=\"8.00\" fill=\"#000000\">21,CA||B</text>\n",
       "</g>\n",
       "<!-- 10&#45;&#45;21 -->\n",
       "<g id=\"edge22\" class=\"edge\">\n",
       "<title>10&#45;&#45;21</title>\n",
       "<path fill=\"none\" stroke=\"#000000\" d=\"M316.4341,-420.9885C322.4012,-407.0219 334.1228,-379.5866 340.0869,-365.6272\"/>\n",
       "</g>\n",
       "<!-- 15 -->\n",
       "<g id=\"node21\" class=\"node\">\n",
       "<title>15</title>\n",
       "<polygon fill=\"#008800\" stroke=\"#008800\" points=\"411.2193,-425.1747 365.2193,-425.1747 365.2193,-408.1747 411.2193,-408.1747 411.2193,-425.1747\"/>\n",
       "<text text-anchor=\"middle\" x=\"388.2193\" y=\"-414.7747\" font-family=\"Times,serif\" font-size=\"8.00\" fill=\"#000000\">15,C|A|B</text>\n",
       "</g>\n",
       "<!-- 10&#45;&#45;15 -->\n",
       "<g id=\"edge23\" class=\"edge\">\n",
       "<title>10&#45;&#45;15</title>\n",
       "<path fill=\"none\" stroke=\"#000000\" d=\"M335.8073,-425.6505C345.0831,-424.0619 355.7611,-422.2333 365.0488,-420.6427\"/>\n",
       "</g>\n",
       "<!-- 17 -->\n",
       "<g id=\"node17\" class=\"node\">\n",
       "<title>17</title>\n",
       "<polygon fill=\"#008800\" stroke=\"#008800\" points=\"115.9707,-528.8869 69.9707,-528.8869 69.9707,-511.8869 115.9707,-511.8869 115.9707,-528.8869\"/>\n",
       "<text text-anchor=\"middle\" x=\"92.9707\" y=\"-518.4869\" font-family=\"Times,serif\" font-size=\"8.00\" fill=\"#000000\">17,A|CB|</text>\n",
       "</g>\n",
       "<!-- 12&#45;&#45;17 -->\n",
       "<g id=\"edge24\" class=\"edge\">\n",
       "<title>12&#45;&#45;17</title>\n",
       "<path fill=\"none\" stroke=\"#000000\" d=\"M148.6117,-507.3593C138.3411,-509.764 126.2964,-512.5841 116.045,-514.9843\"/>\n",
       "</g>\n",
       "<!-- 5&#45;&#45;12 -->\n",
       "<g id=\"edge13\" class=\"edge\">\n",
       "<title>5&#45;&#45;12</title>\n",
       "<path fill=\"none\" stroke=\"#000000\" d=\"M164.627,-436.743C166.2047,-450.9749 169.3039,-478.9314 170.8808,-493.156\"/>\n",
       "</g>\n",
       "<!-- 18 -->\n",
       "<g id=\"node14\" class=\"node\">\n",
       "<title>18</title>\n",
       "<polygon fill=\"#008800\" stroke=\"#008800\" points=\"119.4933,-383.5217 73.4933,-383.5217 73.4933,-366.5217 119.4933,-366.5217 119.4933,-383.5217\"/>\n",
       "<text text-anchor=\"middle\" x=\"96.4933\" y=\"-373.1217\" font-family=\"Times,serif\" font-size=\"8.00\" fill=\"#000000\">18,B|CA|</text>\n",
       "</g>\n",
       "<!-- 5&#45;&#45;18 -->\n",
       "<g id=\"edge14\" class=\"edge\">\n",
       "<title>5&#45;&#45;18</title>\n",
       "<path fill=\"none\" stroke=\"#000000\" d=\"M152.8639,-419.4627C140.405,-409.6405 120.0217,-393.5708 107.4803,-383.6835\"/>\n",
       "</g>\n",
       "<!-- 24 -->\n",
       "<g id=\"node26\" class=\"node\">\n",
       "<title>24</title>\n",
       "<polygon fill=\"#008800\" stroke=\"#008800\" points=\"379.6689,-280.9922 333.6689,-280.9922 333.6689,-263.9922 379.6689,-263.9922 379.6689,-280.9922\"/>\n",
       "<text text-anchor=\"middle\" x=\"356.6689\" y=\"-270.5922\" font-family=\"Times,serif\" font-size=\"8.00\" fill=\"#000000\">24,CA|B|</text>\n",
       "</g>\n",
       "<!-- 19&#45;&#45;24 -->\n",
       "<g id=\"edge34\" class=\"edge\">\n",
       "<title>19&#45;&#45;24</title>\n",
       "<path fill=\"none\" stroke=\"#000000\" d=\"M349.7121,-202.7174C351.2081,-217.7216 354.2587,-248.3184 355.7738,-263.5143\"/>\n",
       "</g>\n",
       "<!-- 23 -->\n",
       "<g id=\"node22\" class=\"node\">\n",
       "<title>23</title>\n",
       "<polygon fill=\"#008800\" stroke=\"#008800\" points=\"71.6375,-320.8382 25.6375,-320.8382 25.6375,-303.8382 71.6375,-303.8382 71.6375,-320.8382\"/>\n",
       "<text text-anchor=\"middle\" x=\"48.6375\" y=\"-310.4382\" font-family=\"Times,serif\" font-size=\"8.00\" fill=\"#000000\">23,BA|C|</text>\n",
       "</g>\n",
       "<!-- 18&#45;&#45;23 -->\n",
       "<g id=\"edge33\" class=\"edge\">\n",
       "<title>18&#45;&#45;23</title>\n",
       "<path fill=\"none\" stroke=\"#000000\" d=\"M89.8392,-366.3058C80.6962,-354.3299 64.3483,-332.9168 55.2351,-320.98\"/>\n",
       "</g>\n",
       "<!-- 6 -->\n",
       "<g id=\"node15\" class=\"node\">\n",
       "<title>6</title>\n",
       "<polygon fill=\"#008800\" stroke=\"#008800\" points=\"44.9764,-474.6662 2.9764,-474.6662 2.9764,-457.6662 44.9764,-457.6662 44.9764,-474.6662\"/>\n",
       "<text text-anchor=\"middle\" x=\"23.9764\" y=\"-464.2662\" font-family=\"Times,serif\" font-size=\"8.00\" fill=\"#000000\">6,|CB|A</text>\n",
       "</g>\n",
       "<!-- 14 -->\n",
       "<g id=\"node16\" class=\"node\">\n",
       "<title>14</title>\n",
       "<polygon fill=\"#008800\" stroke=\"#008800\" points=\"46,-393.3369 0,-393.3369 0,-376.3369 46,-376.3369 46,-393.3369\"/>\n",
       "<text text-anchor=\"middle\" x=\"23\" y=\"-382.9369\" font-family=\"Times,serif\" font-size=\"8.00\" fill=\"#000000\">14,B|C|A</text>\n",
       "</g>\n",
       "<!-- 6&#45;&#45;14 -->\n",
       "<g id=\"edge15\" class=\"edge\">\n",
       "<title>6&#45;&#45;14</title>\n",
       "<path fill=\"none\" stroke=\"#000000\" d=\"M23.8719,-457.4625C23.684,-441.8089 23.2911,-409.0859 23.1037,-393.4779\"/>\n",
       "</g>\n",
       "<!-- 6&#45;&#45;17 -->\n",
       "<g id=\"edge16\" class=\"edge\">\n",
       "<title>6&#45;&#45;17</title>\n",
       "<path fill=\"none\" stroke=\"#000000\" d=\"M35.0616,-474.8777C48.0128,-485.0557 69.2999,-501.7847 82.1406,-511.8758\"/>\n",
       "</g>\n",
       "<!-- 7 -->\n",
       "<g id=\"node18\" class=\"node\">\n",
       "<title>7</title>\n",
       "<polygon fill=\"#008800\" stroke=\"#008800\" points=\"45.3502,-545.6706 3.3502,-545.6706 3.3502,-528.6706 45.3502,-528.6706 45.3502,-545.6706\"/>\n",
       "<text text-anchor=\"middle\" x=\"24.3502\" y=\"-535.2706\" font-family=\"Times,serif\" font-size=\"8.00\" fill=\"#000000\">7,|CBA|</text>\n",
       "</g>\n",
       "<!-- 6&#45;&#45;7 -->\n",
       "<g id=\"edge17\" class=\"edge\">\n",
       "<title>6&#45;&#45;7</title>\n",
       "<path fill=\"none\" stroke=\"#000000\" d=\"M24.0223,-474.8727C24.094,-488.5004 24.232,-514.7215 24.304,-528.3929\"/>\n",
       "</g>\n",
       "<!-- 14&#45;&#45;18 -->\n",
       "<g id=\"edge27\" class=\"edge\">\n",
       "<title>14&#45;&#45;18</title>\n",
       "<path fill=\"none\" stroke=\"#000000\" d=\"M46.2538,-381.7313C54.9167,-380.5743 64.7415,-379.2622 73.3909,-378.107\"/>\n",
       "</g>\n",
       "<!-- 14&#45;&#45;23 -->\n",
       "<g id=\"edge26\" class=\"edge\">\n",
       "<title>14&#45;&#45;23</title>\n",
       "<path fill=\"none\" stroke=\"#000000\" d=\"M26.0416,-376.2356C30.9758,-362.2826 40.6682,-334.874 45.5998,-320.9282\"/>\n",
       "</g>\n",
       "<!-- 7&#45;&#45;17 -->\n",
       "<g id=\"edge18\" class=\"edge\">\n",
       "<title>7&#45;&#45;17</title>\n",
       "<path fill=\"none\" stroke=\"#000000\" d=\"M45.686,-531.9521C53.2399,-530.1046 61.7778,-528.0163 69.4994,-526.1277\"/>\n",
       "</g>\n",
       "<!-- 20&#45;&#45;23 -->\n",
       "<g id=\"edge35\" class=\"edge\">\n",
       "<title>20&#45;&#45;23</title>\n",
       "<path fill=\"none\" stroke=\"#000000\" d=\"M60.1096,-239.2015C57.6369,-254.9652 52.4679,-287.9185 50.0025,-303.6363\"/>\n",
       "</g>\n",
       "<!-- 21&#45;&#45;24 -->\n",
       "<g id=\"edge36\" class=\"edge\">\n",
       "<title>21&#45;&#45;24</title>\n",
       "<path fill=\"none\" stroke=\"#000000\" d=\"M345.0934,-348.3003C347.5669,-332.1011 352.8414,-297.5586 355.324,-281.2999\"/>\n",
       "</g>\n",
       "<!-- 15&#45;&#45;21 -->\n",
       "<g id=\"edge28\" class=\"edge\">\n",
       "<title>15&#45;&#45;21</title>\n",
       "<path fill=\"none\" stroke=\"#000000\" d=\"M381.8495,-408.1289C373.3979,-396.7902 358.5643,-376.8894 350.1186,-365.5587\"/>\n",
       "</g>\n",
       "<!-- 25 -->\n",
       "<g id=\"node23\" class=\"node\">\n",
       "<title>25</title>\n",
       "<polygon fill=\"#008800\" stroke=\"#008800\" points=\"481.4827,-384.7896 435.4827,-384.7896 435.4827,-367.7896 481.4827,-367.7896 481.4827,-384.7896\"/>\n",
       "<text text-anchor=\"middle\" x=\"458.4827\" y=\"-374.3896\" font-family=\"Times,serif\" font-size=\"8.00\" fill=\"#000000\">25,CB|A|</text>\n",
       "</g>\n",
       "<!-- 15&#45;&#45;25 -->\n",
       "<g id=\"edge29\" class=\"edge\">\n",
       "<title>15&#45;&#45;25</title>\n",
       "<path fill=\"none\" stroke=\"#000000\" d=\"M403.1204,-408.11C415.0443,-401.2566 431.6849,-391.6921 443.6031,-384.8419\"/>\n",
       "</g>\n",
       "<!-- 26 -->\n",
       "<g id=\"node27\" class=\"node\">\n",
       "<title>26</title>\n",
       "<polygon fill=\"#008800\" stroke=\"#008800\" points=\"543.0863,-350.1653 497.0863,-350.1653 497.0863,-333.1653 543.0863,-333.1653 543.0863,-350.1653\"/>\n",
       "<text text-anchor=\"middle\" x=\"520.0863\" y=\"-339.7653\" font-family=\"Times,serif\" font-size=\"8.00\" fill=\"#000000\">26,CBA||</text>\n",
       "</g>\n",
       "<!-- 25&#45;&#45;26 -->\n",
       "<g id=\"edge39\" class=\"edge\">\n",
       "<title>25&#45;&#45;26</title>\n",
       "<path fill=\"none\" stroke=\"#000000\" d=\"M473.7105,-367.7308C483.1169,-362.444 495.1528,-355.6792 504.6057,-350.3662\"/>\n",
       "</g>\n",
       "<!-- 16 -->\n",
       "<g id=\"node24\" class=\"node\">\n",
       "<title>16</title>\n",
       "<polygon fill=\"#008800\" stroke=\"#008800\" points=\"440.0724,-237.9761 394.0724,-237.9761 394.0724,-220.9761 440.0724,-220.9761 440.0724,-237.9761\"/>\n",
       "<text text-anchor=\"middle\" x=\"417.0724\" y=\"-227.5761\" font-family=\"Times,serif\" font-size=\"8.00\" fill=\"#000000\">16,C|B|A</text>\n",
       "</g>\n",
       "<!-- 16&#45;&#45;19 -->\n",
       "<g id=\"edge32\" class=\"edge\">\n",
       "<title>16&#45;&#45;19</title>\n",
       "<path fill=\"none\" stroke=\"#000000\" d=\"M400.5565,-220.8931C389.8294,-215.3184 375.9055,-208.0824 365.2088,-202.5236\"/>\n",
       "</g>\n",
       "<!-- 22 -->\n",
       "<g id=\"node25\" class=\"node\">\n",
       "<title>22</title>\n",
       "<polygon fill=\"#008800\" stroke=\"#008800\" points=\"494.8706,-298.0676 448.8706,-298.0676 448.8706,-281.0676 494.8706,-281.0676 494.8706,-298.0676\"/>\n",
       "<text text-anchor=\"middle\" x=\"471.8706\" y=\"-287.6676\" font-family=\"Times,serif\" font-size=\"8.00\" fill=\"#000000\">22,CB||A</text>\n",
       "</g>\n",
       "<!-- 16&#45;&#45;22 -->\n",
       "<g id=\"edge30\" class=\"edge\">\n",
       "<title>16&#45;&#45;22</title>\n",
       "<path fill=\"none\" stroke=\"#000000\" d=\"M424.9237,-238.0858C435.3408,-249.5091 453.6241,-269.5586 464.0339,-280.9739\"/>\n",
       "</g>\n",
       "<!-- 16&#45;&#45;24 -->\n",
       "<g id=\"edge31\" class=\"edge\">\n",
       "<title>16&#45;&#45;24</title>\n",
       "<path fill=\"none\" stroke=\"#000000\" d=\"M404.8489,-238.1811C394.3692,-245.6442 379.3488,-256.3409 368.8743,-263.8002\"/>\n",
       "</g>\n",
       "<!-- 22&#45;&#45;25 -->\n",
       "<g id=\"edge38\" class=\"edge\">\n",
       "<title>22&#45;&#45;25</title>\n",
       "<path fill=\"none\" stroke=\"#000000\" d=\"M470.538,-298.1999C467.9718,-314.8227 462.3719,-351.0969 459.8099,-367.6923\"/>\n",
       "</g>\n",
       "<!-- 22&#45;&#45;26 -->\n",
       "<g id=\"edge37\" class=\"edge\">\n",
       "<title>22&#45;&#45;26</title>\n",
       "<path fill=\"none\" stroke=\"#000000\" d=\"M479.8324,-298.1704C488.7125,-307.7655 503.0018,-323.2053 511.9514,-332.8755\"/>\n",
       "</g>\n",
       "</g>\n",
       "</svg>\n"
      ],
      "text/plain": [
       "<graphviz.dot.Graph at 0x11f308320>"
      ]
     },
     "execution_count": 412,
     "metadata": {},
     "output_type": "execute_result"
    }
   ],
   "source": [
    "diffplan.plot_graph(\n",
    "    env,\n",
    "    labels=[str(idx)+','+'|'.join(''.join(c) for c in s) for idx, s in enumerate(env.states_features)],\n",
    ")"
   ]
  },
  {
   "cell_type": "code",
   "execution_count": 318,
   "metadata": {},
   "outputs": [
    {
     "data": {
      "text/plain": [
       "(([26, 26], tensor(0.)), ([26, 26], tensor(0.)), tensor(0.))"
      ]
     },
     "execution_count": 318,
     "metadata": {},
     "output_type": "execute_result"
    }
   ],
   "source": [
    "def distance_under_policy(env, policy, D, g, s, path=False):\n",
    "    #print(s, g)\n",
    "    path = path or [s]\n",
    "    aidx = np.argmax(policy[s])\n",
    "    if aidx == len(option_set) or option_set[aidx] == g or s == g:\n",
    "        path.append(g)\n",
    "        return path, D[s,g]\n",
    "    #print(option_set[aidx], policy[s, aidx], sorted([(round(p, 2), o) for o, p in zip(option_set, policy[s].numpy()) if p > 1e-3])[::-1])\n",
    "    ns = option_set[aidx]\n",
    "    path.append(ns)\n",
    "    if ns in path or ns == s:\n",
    "        pnew = torch.tensor(policy)\n",
    "        pnew[s, aidx] = 0\n",
    "        return distance_under_policy(env, pnew, D, g, s, path=path)\n",
    "    #assert ns != s, (s, g)\n",
    "    npath, nd = distance_under_policy(env, policy, D, g, ns, path=path)\n",
    "    return npath, D[s, ns] + nd\n",
    "distance_under_policy(env, policy, D, g, s), distance_under_policy(env, policy, D, g, s), D[s,g]"
   ]
  },
  {
   "cell_type": "code",
   "execution_count": 320,
   "metadata": {},
   "outputs": [
    {
     "data": {
      "text/html": [
       "<div><span class=\"Text-label\" style=\"display:inline-block; overflow:hidden; white-space:nowrap; text-overflow:ellipsis; min-width:0; max-width:15ex; vertical-align:middle; text-align:right\"></span>\n",
       "<progress style=\"width:60ex\" max=\"27\" value=\"27\" class=\"Progress-main\"/></progress>\n",
       "<span class=\"Progress-label\"><strong>100%</strong></span>\n",
       "<span class=\"Iteration-label\">27/27</span>\n",
       "<span class=\"Time-label\">[00:01<00:00, 0.04s/it]</span></div>"
      ],
      "text/plain": [
       "\u001b[A\u001b[2K\r",
       " [████████████████████████████████████████████████████████████] 27/27 [00:01<00:00, 0.04s/it]"
      ]
     },
     "metadata": {},
     "output_type": "display_data"
    },
    {
     "name": "stderr",
     "output_type": "stream",
     "text": [
      "/Users/carlos/pu/neu502b/env/lib/python3.6/site-packages/ipykernel_launcher.py:12: UserWarning: To copy construct from a tensor, it is recommended to use sourceTensor.clone().detach() or sourceTensor.clone().detach().requires_grad_(True), rather than torch.tensor(sourceTensor).\n",
      "  if sys.path[0] == '':\n"
     ]
    },
    {
     "data": {
      "text/plain": [
       "\"\\n# now seeing what's in the policy...\\nprint(s, g)\\ndef t(s):\\n    aidx = np.argmax(policy[s])\\n    if aidx == len(option_set): return g\\n    print(option_set[aidx], policy[s, aidx], sorted([(round(p, 2), o) for o, p in zip(option_set, policy[s].numpy()) if p > 1e-3])[::-1])\\n    assert option_set[aidx] != s\\n    return option_set[aidx]\\n\\nx = s\\nwhile x != g:\\n    x = t(x)\\n\""
      ]
     },
     "execution_count": 320,
     "metadata": {},
     "output_type": "execute_result"
    }
   ],
   "source": [
    "'''\n",
    "%time D = diffplan.compute_distance_matrix(env)\n",
    "BFS = diffplan.compute_bfs_matrix(env, D)\n",
    "search_cost = (D + BFS) + 4\n",
    "'''\n",
    "\n",
    "os = option_set = [3, 4, 10, 19, 20, 23]\n",
    "terms = torch.zeros((1+len(os), len(env.states)))\n",
    "for o, oval in enumerate(os):\n",
    "    terms[o, oval] = 100.\n",
    "terms[len(os), g] = 100.\n",
    "env.start_states = env.states\n",
    "\n",
    "for g in tqdm(env.states):\n",
    "    env.goal_set = {env.states_features[g]}\n",
    "    r = diffplan.option_planner_bfs_vec(env, terms, search_cost)\n",
    "    policy = r[3]\n",
    "\n",
    "    for s in env.states:\n",
    "        path, r_dist = distance_under_policy(env, policy, D, g, s)\n",
    "        if r_dist > D[s,g]:\n",
    "            print('over xxx', s,g, '..', r_dist, D[s,g])\n",
    "\n",
    "'''\n",
    "# now seeing what's in the policy...\n",
    "print(s, g)\n",
    "def t(s):\n",
    "    aidx = np.argmax(policy[s])\n",
    "    if aidx == len(option_set): return g\n",
    "    print(option_set[aidx], policy[s, aidx], sorted([(round(p, 2), o) for o, p in zip(option_set, policy[s].numpy()) if p > 1e-3])[::-1])\n",
    "    assert option_set[aidx] != s\n",
    "    return option_set[aidx]\n",
    "\n",
    "x = s\n",
    "while x != g:\n",
    "    x = t(x)\n",
    "'''"
   ]
  },
  {
   "cell_type": "code",
   "execution_count": null,
   "metadata": {},
   "outputs": [],
   "source": [
    "def find_suboptimal(env, xx_cost, D):\n",
    "    for s in env.states:\n",
    "        for g in env.states:\n",
    "            c = xx_cost[s, :] + xx_cost[:, g]\n",
    "            opts = np.where(c==c.min())[0]\n",
    "            # For all good options, is there any where the cost is not the optimal?\n",
    "            for o in opts:\n",
    "                if D[s, o] + D[o, g] > D[s, g]:\n",
    "                    print(D[s, o] + D[o, g], D[s, g], env.states_features[s], env.states_features[o], env.states_features[g])\n",
    "\n",
    "find_suboptimal(env, xx_cost, D)"
   ]
  },
  {
   "cell_type": "code",
   "execution_count": null,
   "metadata": {},
   "outputs": [],
   "source": []
  }
 ],
 "metadata": {
  "kernelspec": {
   "display_name": "Python 3",
   "language": "python",
   "name": "python3"
  },
  "language_info": {
   "codemirror_mode": {
    "name": "ipython",
    "version": 3
   },
   "file_extension": ".py",
   "mimetype": "text/x-python",
   "name": "python",
   "nbconvert_exporter": "python",
   "pygments_lexer": "ipython3",
   "version": "3.6.4"
  }
 },
 "nbformat": 4,
 "nbformat_minor": 2
}
