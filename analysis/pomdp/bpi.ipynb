{
 "cells": [
  {
   "cell_type": "code",
   "execution_count": 60,
   "metadata": {},
   "outputs": [],
   "source": [
    "import torch"
   ]
  },
  {
   "cell_type": "code",
   "execution_count": 230,
   "metadata": {},
   "outputs": [],
   "source": [
    "T = torch.tensor([\n",
    "    # s = 0, a = 0,1,2\n",
    "    [\n",
    "        [0.5, 0.5],\n",
    "        [0.5, 0.5],\n",
    "        [1.0, 0.0],\n",
    "    ],\n",
    "    # s = 1, a = 0,1,2\n",
    "    [\n",
    "        [0.5, 0.5],\n",
    "        [0.5, 0.5],\n",
    "        [0.0, 1.0],\n",
    "    ]\n",
    "])\n",
    "\n",
    "p = 0.85\n",
    "O = torch.tensor([\n",
    "    # a = 0, s' = 0,1\n",
    "    [\n",
    "        [0.5, 0.5],\n",
    "        [0.5, 0.5],\n",
    "    ],\n",
    "    # a = 1, s' = 0,1\n",
    "    [\n",
    "        [0.5, 0.5],\n",
    "        [0.5, 0.5],\n",
    "    ],\n",
    "    # a = 2, s' = 0,1\n",
    "    [\n",
    "        [p, 1-p],\n",
    "        [1-p, p],\n",
    "    ]\n",
    "])\n",
    "\n",
    "R = torch.tensor([\n",
    "    # s = 0\n",
    "    [+10, -100, -1],\n",
    "    # s = 1\n",
    "    [-100, +10, -1],\n",
    "]).float()"
   ]
  },
  {
   "cell_type": "code",
   "execution_count": 349,
   "metadata": {},
   "outputs": [],
   "source": [
    "opt_fsc_action = torch.tensor([2, 2, 0, 2, 1])\n",
    "opt_fsc_state = torch.tensor([\n",
    "    [1, 3],\n",
    "    [2, 0],\n",
    "    [0, 0],\n",
    "    [0, 4],\n",
    "    [0, 0],\n",
    "])"
   ]
  },
  {
   "cell_type": "code",
   "execution_count": 350,
   "metadata": {},
   "outputs": [
    {
     "ename": "IndexError",
     "evalue": "tensors used as indices must be long, byte or bool tensors",
     "output_type": "error",
     "traceback": [
      "\u001b[0;31m---------------------------------------------------------------------------\u001b[0m",
      "\u001b[0;31mIndexError\u001b[0m                                Traceback (most recent call last)",
      "\u001b[0;32m<ipython-input-350-b2af29d9bc91>\u001b[0m in \u001b[0;36m<module>\u001b[0;34m\u001b[0m\n\u001b[1;32m     10\u001b[0m         \u001b[0;32mfor\u001b[0m \u001b[0ms\u001b[0m \u001b[0;32min\u001b[0m \u001b[0mrange\u001b[0m\u001b[0;34m(\u001b[0m\u001b[0mnum_states\u001b[0m\u001b[0;34m)\u001b[0m\u001b[0;34m:\u001b[0m\u001b[0;34m\u001b[0m\u001b[0m\n\u001b[1;32m     11\u001b[0m             \u001b[0ma\u001b[0m \u001b[0;34m=\u001b[0m \u001b[0mfsc_action\u001b[0m\u001b[0;34m[\u001b[0m\u001b[0mn\u001b[0m\u001b[0;34m]\u001b[0m\u001b[0;34m\u001b[0m\u001b[0m\n\u001b[0;32m---> 12\u001b[0;31m             V[n, s] = R[s, a] + gamma * sum([\n\u001b[0m\u001b[1;32m     13\u001b[0m                 T[s, a, ns] * sum(\n\u001b[1;32m     14\u001b[0m                     \u001b[0mO\u001b[0m\u001b[0;34m[\u001b[0m\u001b[0ma\u001b[0m\u001b[0;34m,\u001b[0m \u001b[0mns\u001b[0m\u001b[0;34m,\u001b[0m \u001b[0mo\u001b[0m\u001b[0;34m]\u001b[0m \u001b[0;34m*\u001b[0m \u001b[0mV\u001b[0m\u001b[0;34m[\u001b[0m\u001b[0mfsc_state\u001b[0m\u001b[0;34m[\u001b[0m\u001b[0mn\u001b[0m\u001b[0;34m,\u001b[0m \u001b[0mo\u001b[0m\u001b[0;34m]\u001b[0m\u001b[0;34m,\u001b[0m \u001b[0mns\u001b[0m\u001b[0;34m]\u001b[0m\u001b[0;34m\u001b[0m\u001b[0m\n",
      "\u001b[0;31mIndexError\u001b[0m: tensors used as indices must be long, byte or bool tensors"
     ]
    }
   ],
   "source": [
    "gamma = 0.95\n",
    "\n",
    "num_nodes, num_states = len(fsc_action), T.shape[0]\n",
    "num_obs = O.shape[2]\n",
    "\n",
    "V = torch.zeros((num_nodes, num_states))\n",
    "for idx in range(200):\n",
    "    prev = torch.clone(V)\n",
    "    for n in range(num_nodes):\n",
    "        for s in range(num_states):\n",
    "            a = fsc_action[n]\n",
    "            V[n, s] = R[s, a] + gamma * sum([\n",
    "                T[s, a, ns] * sum(\n",
    "                    O[a, ns, o] * V[fsc_state[n, o], ns]\n",
    "                    for o in range(num_obs)\n",
    "                )\n",
    "                for ns in range(num_states)\n",
    "            ])\n",
    "    if torch.norm(prev-V) < 1e-5:\n",
    "        print('Converged', idx)\n",
    "        break\n",
    "print(V)"
   ]
  },
  {
   "cell_type": "code",
   "execution_count": 351,
   "metadata": {},
   "outputs": [
    {
     "name": "stdout",
     "output_type": "stream",
     "text": [
      "Converged 108\n"
     ]
    },
    {
     "data": {
      "text/plain": [
       "tensor([[ 19.3677,  19.3677],\n",
       "        [ 24.6921,   3.0113],\n",
       "        [ 28.3993, -81.6007],\n",
       "        [  3.0113,  24.6921],\n",
       "        [-81.6007,  28.3993]])"
      ]
     },
     "execution_count": 351,
     "metadata": {},
     "output_type": "execute_result"
    }
   ],
   "source": [
    "def policy_evaluation(fsc_action, fsc_state, T, O, R, *, gamma=0.95, debug=True, max_iter=5000, vi_eps=1e-3):\n",
    "    num_nodes, num_states = len(fsc_action), T.shape[0]\n",
    "    num_obs = O.shape[2]\n",
    "\n",
    "    V = torch.zeros((num_nodes, num_states))\n",
    "    for idx in range(max_iter):\n",
    "        prev = torch.clone(V)\n",
    "        for n in range(num_nodes):\n",
    "            a = fsc_action[n]\n",
    "            state_vals = torch.sum(O[a] * V[fsc_state[n]].T, axis=1)\n",
    "            V[n] = R[:, a] + gamma * T[:, a] @ state_vals\n",
    "        '''\n",
    "        for n in range(num_nodes):\n",
    "            for s in range(num_states):\n",
    "                a = fsc_action[n]\n",
    "                nn = fsc_state[n]\n",
    "\n",
    "                state_vals = np.sum(O[a] * V[fsc_state[n]].T, axis=1)\n",
    "                V[n, s] = R[s, a] + gamma * T[s, a] @ state_vals\n",
    "        '''\n",
    "        if torch.norm(prev-V) < vi_eps:\n",
    "            if debug:\n",
    "                print('Converged', idx)\n",
    "            break\n",
    "    return V\n",
    "policy_evaluation(opt_fsc_action, opt_fsc_state, T, O, R)"
   ]
  },
  {
   "cell_type": "markdown",
   "metadata": {},
   "source": [
    "# Stochastic controllers..."
   ]
  },
  {
   "cell_type": "code",
   "execution_count": 234,
   "metadata": {},
   "outputs": [
    {
     "data": {
      "text/plain": [
       "(tensor([[0., 0., 1.],\n",
       "         [0., 0., 1.],\n",
       "         [1., 0., 0.],\n",
       "         [0., 0., 1.],\n",
       "         [0., 1., 0.]]), tensor([[[[0., 0., 0., 0., 0.],\n",
       "           [0., 0., 0., 0., 0.]],\n",
       " \n",
       "          [[0., 0., 0., 0., 0.],\n",
       "           [0., 0., 0., 0., 0.]],\n",
       " \n",
       "          [[0., 1., 0., 0., 0.],\n",
       "           [0., 0., 0., 1., 0.]]],\n",
       " \n",
       " \n",
       "         [[[0., 0., 0., 0., 0.],\n",
       "           [0., 0., 0., 0., 0.]],\n",
       " \n",
       "          [[0., 0., 0., 0., 0.],\n",
       "           [0., 0., 0., 0., 0.]],\n",
       " \n",
       "          [[0., 0., 1., 0., 0.],\n",
       "           [1., 0., 0., 0., 0.]]],\n",
       " \n",
       " \n",
       "         [[[1., 0., 0., 0., 0.],\n",
       "           [1., 0., 0., 0., 0.]],\n",
       " \n",
       "          [[0., 0., 0., 0., 0.],\n",
       "           [0., 0., 0., 0., 0.]],\n",
       " \n",
       "          [[0., 0., 0., 0., 0.],\n",
       "           [0., 0., 0., 0., 0.]]],\n",
       " \n",
       " \n",
       "         [[[0., 0., 0., 0., 0.],\n",
       "           [0., 0., 0., 0., 0.]],\n",
       " \n",
       "          [[0., 0., 0., 0., 0.],\n",
       "           [0., 0., 0., 0., 0.]],\n",
       " \n",
       "          [[1., 0., 0., 0., 0.],\n",
       "           [0., 0., 0., 0., 1.]]],\n",
       " \n",
       " \n",
       "         [[[0., 0., 0., 0., 0.],\n",
       "           [0., 0., 0., 0., 0.]],\n",
       " \n",
       "          [[1., 0., 0., 0., 0.],\n",
       "           [1., 0., 0., 0., 0.]],\n",
       " \n",
       "          [[0., 0., 0., 0., 0.],\n",
       "           [0., 0., 0., 0., 0.]]]]))"
      ]
     },
     "execution_count": 234,
     "metadata": {},
     "output_type": "execute_result"
    }
   ],
   "source": [
    "def det_to_stoch(fsc_action, fsc_state, T):\n",
    "    num_states, num_actions, _ = T.shape\n",
    "    num_nodes, num_obs = fsc_state.shape\n",
    "    a = torch.zeros((num_nodes, num_actions))\n",
    "    s = torch.zeros((num_nodes, num_actions, num_obs, num_nodes))\n",
    "    for n in range(num_nodes):\n",
    "        a[n, fsc_action[n]] = 1.\n",
    "        for o in range(num_obs):\n",
    "            s[n, fsc_action[n], o, fsc_state[n, o]] = 1.\n",
    "    return a, s\n",
    "\n",
    "det_to_stoch(fsc_action, fsc_state, T)"
   ]
  },
  {
   "cell_type": "code",
   "execution_count": null,
   "metadata": {},
   "outputs": [],
   "source": []
  },
  {
   "cell_type": "code",
   "execution_count": 352,
   "metadata": {},
   "outputs": [
    {
     "name": "stdout",
     "output_type": "stream",
     "text": [
      "Converged 108\n",
      "torch.Size([5, 2]) tensor([[ 19.3677,  19.3677],\n",
      "        [ 24.6921,   3.0113],\n",
      "        [ 28.3993, -81.6007],\n",
      "        [  3.0113,  24.6921],\n",
      "        [-81.6007,  28.3993]])\n"
     ]
    }
   ],
   "source": [
    "def policy_evaluation_stoch(fsc_action, fsc_state, T, O, R, *, gamma=0.95, debug=True, max_iter=5000, vi_eps=1e-3):\n",
    "    num_states, num_actions, _ = T.shape\n",
    "    num_nodes, num_obs = fsc_state.shape[0], O.shape[2]\n",
    "\n",
    "    V = torch.zeros((num_nodes, num_states))\n",
    "    for idx in range(max_iter):\n",
    "        prev = torch.clone(V)\n",
    "        for n in range(num_nodes):\n",
    "            # (a, s')\n",
    "            val = torch.sum(\n",
    "                # (a, s', o) * (a, None, o, n') = (a, s', o, n') -(sum(ax=2))> (a, s', n')\n",
    "                (O[:, :, :, None] * fsc_state[n, :, None]).sum(axis=2) *\n",
    "                V.T[None, :, :], axis=2)\n",
    "            # (s, a) expected future value for state/action\n",
    "            Q = torch.sum(T * val[None, :, :], axis=2)\n",
    "            V[n] = (R + gamma * Q) @ fsc_action[n] # HAKKK \n",
    "            #V[n] = R @ fsc_action[n] + gamma * Q.sum(1) # HAKKK  # HAKKK  # HAKKK \n",
    "        '''\n",
    "        for n in range(num_nodes):\n",
    "            # (a, s')\n",
    "            val = torch.sum(\n",
    "                # (a, s', o) @ (o, n') = (a, s', n')\n",
    "                O @ fsc_state[n] *\n",
    "                V.T[None, :, :], axis=2)\n",
    "            # (s, a) expected future value for state/action\n",
    "            Q = torch.sum(T * val[None, :, :], axis=2)\n",
    "            V[n] = (R + gamma * Q) @ fsc_action[n]\n",
    "        '''\n",
    "        '''\n",
    "        for n in range(num_nodes):\n",
    "            # (a, s')\n",
    "            val = np.sum(\n",
    "                # (a, s', o) @ (o, n') = (a, s', n')\n",
    "                O @ fsc_state[n] *\n",
    "                V.T[None, :, :], axis=2)\n",
    "            # (s, a) expected future value for state/action\n",
    "            Q = np.sum(T * val[None, :, :], axis=2)\n",
    "            V[n] = (R + gamma * Q) @ fsc_action[n]\n",
    "        '''\n",
    "        '''\n",
    "        for n in range(num_nodes):\n",
    "            for s in range(num_states):\n",
    "                # (a, s')\n",
    "                val = np.sum(\n",
    "                    # (a, s', o) @ (o, n') = (a, s', n')\n",
    "                    O @ fsc_state[n] *\n",
    "                    V.T[None, :, :], axis=2)\n",
    "                # (a) expected future value for actions\n",
    "                val = np.sum(T[s] * val, axis=1)\n",
    "                V[n, s] = fsc_action[n] @ (R[s] + gamma * val)\n",
    "        '''\n",
    "        '''\n",
    "        for n in range(num_nodes):\n",
    "            for s in range(num_states):\n",
    "                V[n, s] = sum(\n",
    "                    fsc_action[n, a] * (\n",
    "                        R[s, a] + gamma * sum([\n",
    "                            T[s, a, ns] * O[a, ns, :] @ fsc_state[n, :, :] @ V[:, ns]\n",
    "                            for ns in range(num_states)\n",
    "                        ])\n",
    "                    )\n",
    "                    for a in range(num_actions))\n",
    "        '''\n",
    "        '''\n",
    "        for n in range(num_nodes):\n",
    "            for s in range(num_states):\n",
    "                V[n, s] = sum(fsc_action[n, a] * (R[s, a] + gamma * sum([\n",
    "                    T[s, a, ns] * sum(\n",
    "                        O[a, ns, o] * sum(fsc_state[n, o, nn] * V[nn, ns] for nn in range(num_nodes))\n",
    "                        for o in range(num_obs)\n",
    "                    )\n",
    "                    for ns in range(num_states)\n",
    "                ])) for a in range(num_actions))\n",
    "        '''\n",
    "        '''\n",
    "        for n in range(num_nodes):\n",
    "            a = fsc_action[n]\n",
    "            state_vals = np.sum(O[a] * V[fsc_state[n]].T, axis=1)\n",
    "            V[n] = R[:, a] + gamma * T[:, a] @ state_vals\n",
    "        '''\n",
    "        '''\n",
    "        for n in range(num_nodes):\n",
    "            for s in range(num_states):\n",
    "                a = fsc_action[n]\n",
    "                nn = fsc_state[n]\n",
    "\n",
    "                state_vals = np.sum(O[a] * V[fsc_state[n]].T, axis=1)\n",
    "                V[n, s] = R[s, a] + gamma * T[s, a] @ state_vals\n",
    "        '''\n",
    "        if torch.norm(prev-V) < vi_eps:\n",
    "            if debug:\n",
    "                print('Converged', idx)\n",
    "            break\n",
    "    return V\n",
    "\n",
    "# TODO, make SR !@ TODO TODO\n",
    "V = policy_evaluation_stoch(*det_to_stoch(opt_fsc_action, opt_fsc_state, T) + (T, O, R))\n",
    "print(V.shape, V)"
   ]
  },
  {
   "cell_type": "code",
   "execution_count": 236,
   "metadata": {},
   "outputs": [],
   "source": [
    "# trying to write the constraint out...\n",
    "#ret = (T * (O * (canz@V).transpose(1, 2)).sum(2)[None, :, :]).sum(axis=(1, 2))\n",
    "#R@c_a + gamma * ret"
   ]
  },
  {
   "cell_type": "code",
   "execution_count": 359,
   "metadata": {},
   "outputs": [
    {
     "data": {
      "text/plain": [
       "(tensor([ 0., -1.,  0.,  0.,  0.,  0.,  0.,  0.,  0.,  0.,  0.,  0.,  0.,  0.,\n",
       "          0.,  0.,  0.,  0.,  0.,  0.,  0.,  0.,  0.,  0.,  0.,  0.,  0.,  0.,\n",
       "          0.,  0.,  0.,  0.,  0.,  0.]), tensor(0.))"
      ]
     },
     "execution_count": 359,
     "metadata": {},
     "output_type": "execute_result"
    }
   ],
   "source": [
    "def make_constraints(n, V, T, O, R):\n",
    "    num_states, num_actions, _ = T.shape\n",
    "    num_nodes = V.shape[0]\n",
    "    num_obs = O.shape[2]\n",
    "\n",
    "    canz_shape = torch.Size((num_actions, num_obs, num_nodes))\n",
    "\n",
    "    args = 1 + num_actions + canz_shape.numel()\n",
    "\n",
    "    delta_slice = slice(0, 1)\n",
    "    c_a_slice = slice(1, 1 + num_actions)\n",
    "    canz_slice = slice(1 + num_actions, None)\n",
    "\n",
    "    G = torch.zeros((V.shape[1] + num_actions + canz_shape.numel(), args))\n",
    "    h = torch.cat((\n",
    "        -V[n],\n",
    "        torch.zeros(num_actions + canz_shape.numel()),\n",
    "    ))\n",
    "\n",
    "    # Last spots encode c >= 0 as -c <= 0\n",
    "    for idx in range(num_actions + canz_shape.numel()):\n",
    "        G[num_states+idx, delta_slice.stop+idx] = -1\n",
    "\n",
    "    for s in range(num_states):\n",
    "        G[s, delta_slice] = 1\n",
    "        G[s, c_a_slice] = -R[s]\n",
    "        canz_coef = G[s, canz_slice].view(canz_shape)\n",
    "\n",
    "        # (a, s', o)\n",
    "        #xx = T[s, :, :, None]*O\n",
    "        for a in range(num_actions):\n",
    "            for o in range(num_obs):\n",
    "                for nn in range(num_nodes):\n",
    "                    canz_coef[a, o, nn] = -gamma * (T[s, a, :] * O[a, :, o] * V[nn]).sum()\n",
    "\n",
    "    # Q has to be PSD... so I've scaled it down considerably here\n",
    "    Q = torch.eye(args) / 10000.\n",
    "    p = torch.zeros(args)\n",
    "    # The default optimization is an argmin, so this lets us maximize the delta!\n",
    "    p[delta_slice] = -1\n",
    "\n",
    "    # HACK HACK in the future, write these so we don't need c_a?? to be simpler??\n",
    "    A = torch.zeros((num_actions+1, args))\n",
    "    b = torch.zeros(A.shape[0])\n",
    "\n",
    "    # \\sum_a c_a = 1\n",
    "    A[num_actions, c_a_slice] = 1\n",
    "    b[num_actions] = 1\n",
    "\n",
    "    # for each a, \\sum_a c_a_n_z = c_a\n",
    "    for a in range(num_actions):\n",
    "        A[a, c_a_slice][a] = -1\n",
    "        A[a, canz_slice].view(canz_shape)[a] = 1\n",
    "\n",
    "    return Q, p, G, h, A, b\n",
    "\n",
    "Q, p, G, h, A, b = make_constraints(0, V, T, O, R)\n",
    "#A, b\n",
    "G[2], h[2]"
   ]
  },
  {
   "cell_type": "code",
   "execution_count": 360,
   "metadata": {},
   "outputs": [],
   "source": [
    "import qpth\n",
    "constraints = make_constraints(0, V, T, O, R)\n",
    "soln = qpth.qp.QPFunction(verbose=-1)(*constraints).float()\n"
   ]
  },
  {
   "cell_type": "code",
   "execution_count": 361,
   "metadata": {},
   "outputs": [
    {
     "data": {
      "text/plain": [
       "tensor(0.9897)"
      ]
     },
     "execution_count": 361,
     "metadata": {},
     "output_type": "execute_result"
    }
   ],
   "source": [
    "soln.flatten()[canz_slice].view(canz_shape).sum()"
   ]
  },
  {
   "cell_type": "code",
   "execution_count": 362,
   "metadata": {},
   "outputs": [
    {
     "data": {
      "text/plain": [
       "[tensor([0.1654]),\n",
       " tensor([-8.2436e-04,  4.4796e-03,  1.0441e+00]),\n",
       " tensor([[[0.0004, 0.0010, 0.0008, 0.0009, 0.0009],\n",
       "          [0.0005, 0.0010, 0.0009, 0.0005, 0.0009]],\n",
       " \n",
       "         [[0.0022, 0.0047, 0.0023, 0.0051, 0.0034],\n",
       "          [0.0027, 0.0042, 0.0031, 0.0052, 0.0030]],\n",
       " \n",
       "         [[0.1067, 0.1176, 0.0969, 0.1147, 0.0929],\n",
       "          [0.0887, 0.0882, 0.0791, 0.0697, 0.0916]]])]"
      ]
     },
     "execution_count": 362,
     "metadata": {},
     "output_type": "execute_result"
    }
   ],
   "source": [
    "[\n",
    "    soln.flatten()[delta_slice],\n",
    "    soln.flatten()[c_a_slice],\n",
    "    soln.flatten()[canz_slice].view(canz_shape),\n",
    "]"
   ]
  },
  {
   "cell_type": "code",
   "execution_count": 357,
   "metadata": {},
   "outputs": [
    {
     "data": {
      "text/plain": [
       "(tensor([0.3333, 0.3333, 0.3333]),\n",
       " tensor([[[0.1000, 0.1000, 0.1000, 0.1000, 0.1000],\n",
       "          [0.1000, 0.1000, 0.1000, 0.1000, 0.1000]],\n",
       " \n",
       "         [[0.1000, 0.1000, 0.1000, 0.1000, 0.1000],\n",
       "          [0.1000, 0.1000, 0.1000, 0.1000, 0.1000]],\n",
       " \n",
       "         [[0.1000, 0.1000, 0.1000, 0.1000, 0.1000],\n",
       "          [0.1000, 0.1000, 0.1000, 0.1000, 0.1000]]]),\n",
       " tensor(-1.8173e-08))"
      ]
     },
     "execution_count": 357,
     "metadata": {},
     "output_type": "execute_result"
    }
   ],
   "source": [
    "fsc_action[n], fsc_state[n], soln.flatten()[canz_slice].view(canz.shape)[0, 1].sum()"
   ]
  },
  {
   "cell_type": "markdown",
   "metadata": {},
   "source": [
    "# Trying to fit..."
   ]
  },
  {
   "cell_type": "code",
   "execution_count": 371,
   "metadata": {},
   "outputs": [
    {
     "name": "stdout",
     "output_type": "stream",
     "text": [
      "0 -35.173397064208984\n",
      "[tensor([-35.1734]), tensor([0.6718, 0.7113, 0.0646])]\n",
      "[tensor([-35.1734]), tensor(1.4477), tensor(0.3652)]\n",
      "tensor([-57.7777, -57.7777]) tensor(0.)\n",
      "1 -35.17386245727539\n",
      "[tensor([-35.1739]), tensor([0.6440, 0.6359, 0.0031])]\n",
      "[tensor([-35.1739]), tensor(1.2830), tensor(0.2209)]\n",
      "tensor([-57.7777, -57.7777]) tensor(0.)\n",
      "2 17.074920654296875\n",
      "[tensor([17.0749]), tensor([0.2497, 0.0278, 0.7399])]\n",
      "[tensor([17.0749]), tensor(1.0174), tensor(1.0579)]\n",
      "tensor([-57.7777, -57.7777]) tensor(0.)\n",
      "3 39.819095611572266\n",
      "[tensor([39.8191]), tensor([ 3.7605e-10, -1.0252e-07,  1.0000e+00])]\n",
      "[tensor([39.8191]), tensor(1.), tensor(1.0000)]\n",
      "tensor([-52.8382, -53.2629]) tensor(-99.5180)\n",
      "4 40.709922790527344\n",
      "[tensor([40.7099]), tensor([-3.9144e-07,  1.9165e-07,  1.0000e+00])]\n",
      "[tensor([40.7099]), tensor(1.0000), tensor(1.0000)]\n",
      "tensor([-46.6384, -47.2931]) tensor(-227.6203)\n",
      "0 37.90904998779297\n",
      "[tensor([37.9090]), tensor([3.0251e-08, 3.8962e-08, 1.0000e+00])]\n",
      "[tensor([37.9090]), tensor(1.), tensor(1.0000)]\n",
      "tensor([-40.9737, -41.8795]) tensor(-116.6145)\n",
      "1 34.35309600830078\n",
      "[tensor([34.3531]), tensor([-1.5220e-09, -8.5964e-10,  1.0000e+00])]\n",
      "[tensor([34.3531]), tensor(1.), tensor(1.)]\n",
      "tensor([-2.4873, -3.8826]) tensor(-211.5754)\n",
      "2 2.865950345993042\n",
      "[tensor([2.8660]), tensor([ 2.0884e-01, -2.1255e-08,  7.9116e-01])]\n",
      "[tensor([2.8660]), tensor(1.), tensor(1.0000)]\n",
      "tensor([-2.0003, -3.7911]) tensor(-289.4266)\n",
      "3 -9.603103637695312\n",
      "[tensor([-9.6031]), tensor([-0.0153,  0.0055,  0.0320])]\n",
      "[tensor([-9.6031]), tensor(0.0222), tensor(0.3258)]\n",
      "tensor([-1.5672, -3.5111]) tensor(-301.7605)\n",
      "4 -1.3169910907745361\n",
      "[tensor([-1.3170]), tensor([ 0.0290, -0.0229,  1.0534])]\n",
      "[tensor([-1.3170]), tensor(1.0595), tensor(1.0012)]\n",
      "tensor([-1.5672, -3.5111]) tensor(-301.7605)\n",
      "0 0.32838085293769836\n",
      "[tensor([0.3284]), tensor([7.9835e-03, 2.3605e-04, 9.9182e-01])]\n",
      "[tensor([0.3284]), tensor(1.0000), tensor(0.9962)]\n",
      "tensor([-1.5672, -3.5111]) tensor(0.)\n",
      "1 0.24635480344295502\n",
      "[tensor([0.2464]), tensor([2.8944e-04, 2.6864e-04, 9.9974e-01])]\n",
      "[tensor([0.2464]), tensor(1.0003), tensor(0.9997)]\n",
      "tensor([-1.2217, -3.1597]) tensor(-1.2132)\n",
      "2 0.5080803632736206\n",
      "[tensor([0.5081]), tensor([ 1.8793e-01, -3.9811e-09,  8.1207e-01])]\n",
      "[tensor([0.5081]), tensor(1.), tensor(1.)]\n",
      "tensor([-1.2117, -3.1509]) tensor(-2.0314)\n",
      "3 1.109637975692749\n",
      "[tensor([1.1096]), tensor([3.7494e-02, 2.3274e-04, 9.7051e-01])]\n",
      "[tensor([1.1096]), tensor(1.0082), tensor(0.9735)]\n",
      "tensor([-0.7211, -3.0835]) tensor(-7.1297)\n",
      "4 -12.219412803649902\n",
      "[tensor([-12.2194]), tensor([0.1716, 0.1483, 0.8606])]\n",
      "[tensor([-12.2194]), tensor(1.1804), tensor(0.8266)]\n",
      "tensor([-0.0723, -2.8602]) tensor(-12.4400)\n"
     ]
    }
   ],
   "source": [
    "# canz -> p(n' | n, a, o) -> p(n', a, o | n) ??\n",
    "# c_a -> p(a | n)\n",
    "fsc_action = torch.ones((num_nodes, num_actions))/num_actions\n",
    "fsc_state = torch.ones((num_nodes, num_actions, num_obs, num_nodes))/(num_actions+num_obs+num_nodes)\n",
    "\n",
    "#fsc_action = torch.tensor(np.random.uniform(0, 1, size=(num_nodes, num_actions))).softmax(1).float()\n",
    "#xrnd = np.random.uniform(0, 1, size=(num_nodes, num_actions, num_obs, num_nodes))\n",
    "#fsc_state = torch.tensor(xrnd/np.sum(xrnd, axis=(1, 2, 3))).float()\n",
    "\n",
    "V = policy_evaluation_stoch(fsc_action, fsc_state, T, O, R, debug=False)\n",
    "for i in range(3):\n",
    "    prev = V.clone()\n",
    "    for n in range(num_nodes):\n",
    "        V = policy_evaluation_stoch(fsc_action, fsc_state, T, O, R, debug=False)\n",
    "        constraints = make_constraints(n, V, T, O, R)\n",
    "        soln = qpth.qp.QPFunction(verbose=-1)(*constraints).float()\n",
    "        delta = soln[0, 0].item()\n",
    "        print(n, delta)\n",
    "        print([\n",
    "            soln.flatten()[delta_slice],\n",
    "            soln.flatten()[c_a_slice],\n",
    "            #soln.flatten()[canz_slice].view(canz_shape),\n",
    "        ])\n",
    "        print([\n",
    "            soln.flatten()[delta_slice],\n",
    "            soln.flatten()[c_a_slice].sum(),\n",
    "            soln.flatten()[canz_slice].view(canz_shape).sum(),\n",
    "        ])\n",
    "        if delta > 0:\n",
    "            fsc_action[n] = soln[0, c_a_slice]\n",
    "            fsc_state[n] = soln[0, canz_slice].view(canz_shape)\n",
    "        print(V[0], (prev-V).sum())"
   ]
  },
  {
   "cell_type": "code",
   "execution_count": 372,
   "metadata": {},
   "outputs": [
    {
     "name": "stdout",
     "output_type": "stream",
     "text": [
      "action [(2, 0.99182117)]\n",
      "(tensor(0), tensor(2), tensor(0), tensor(3)) tensor(0.9911)\n",
      "action [(2, 0.99974215)]\n",
      "(tensor(1), tensor(2), tensor(0), tensor(3)) tensor(0.9997)\n",
      "action [(0, 0.18792835), (2, 0.8120717)]\n",
      "(tensor(2), tensor(0), tensor(0), tensor(1)) tensor(0.0940)\n",
      "(tensor(2), tensor(0), tensor(1), tensor(1)) tensor(0.0939)\n",
      "(tensor(2), tensor(2), tensor(0), tensor(2)) tensor(0.8121)\n",
      "action [(0, 0.037493937), (2, 0.9705136)]\n",
      "(tensor(3), tensor(2), tensor(0), tensor(2)) tensor(0.9699)\n",
      "action [(2, 1.0000001)]\n",
      "(tensor(4), tensor(2), tensor(0), tensor(3)) tensor(0.5534)\n",
      "(tensor(4), tensor(2), tensor(1), tensor(3)) tensor(0.4466)\n"
     ]
    }
   ],
   "source": [
    "prev = -1\n",
    "for idx in zip(*torch.where(fsc_state>.01)):\n",
    "    if prev != idx[0]:\n",
    "        print('action', [(i, p) for i, p in enumerate(fsc_action[idx[0]].numpy()) if p > 1e-2])\n",
    "    print(idx, fsc_state[idx])\n",
    "    prev = idx[0]"
   ]
  },
  {
   "cell_type": "code",
   "execution_count": 282,
   "metadata": {},
   "outputs": [
    {
     "data": {
      "text/plain": [
       "[(2, 1.0)]"
      ]
     },
     "execution_count": 282,
     "metadata": {},
     "output_type": "execute_result"
    }
   ],
   "source": []
  },
  {
   "cell_type": "code",
   "execution_count": null,
   "metadata": {},
   "outputs": [],
   "source": []
  }
 ],
 "metadata": {
  "kernelspec": {
   "display_name": "Python 3",
   "language": "python",
   "name": "python3"
  },
  "language_info": {
   "codemirror_mode": {
    "name": "ipython",
    "version": 3
   },
   "file_extension": ".py",
   "mimetype": "text/x-python",
   "name": "python",
   "nbconvert_exporter": "python",
   "pygments_lexer": "ipython3",
   "version": "3.6.4"
  }
 },
 "nbformat": 4,
 "nbformat_minor": 2
}
